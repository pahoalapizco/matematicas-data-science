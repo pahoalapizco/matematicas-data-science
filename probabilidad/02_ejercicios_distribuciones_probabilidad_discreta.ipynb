{
  "cells": [
    {
      "cell_type": "markdown",
      "metadata": {
        "id": "Tq1c5_KzUaCG"
      },
      "source": [
        "# Distribuciones discretas (e.j. binomial)\n",
        "\n",
        "---\n",
        "\n",
        "\n",
        "\n",
        "Recordando que la distribución binomial está dada por:\n",
        "\n",
        "$$\n",
        "P(k, n; p) = {n \\choose k} p^k (1-p)^{n-k} = \\frac{n!}{k!(n-k)!}p^k (1-p)^{n-k}\n",
        "$$\n",
        "\n",
        "donde $P(k, n; p)$ representa la probabilidad de obtener $k$ éxitos de $n$ intentos con posibilidad **binaria** (por ejemplo, lanzamientos de moneda).\n",
        "\n",
        "`Ejemplo`: la probabilidad de obtener 4 caras a partir de 10 lanzamientos consecutivos de moneda, está dada por (tomando $p=0.5$, por lo tanto $1-p=0.5$):\n",
        "\n",
        "$$\n",
        "P(k=4, n=10; p=0.5) = {10 \\choose 4} \\left( \\frac{1}{2}\\right)^{10} = \\frac{10!}{4!6!} \\left( \\frac{1}{2}\\right)^{10}\n",
        "$$\n",
        "\n",
        "---\n",
        "\n",
        "Ahora, la probabilidad de obtener $k$ o menos éxitos a partir de $n$ intentos está dada por la distribución acumulada:\n",
        "\n",
        "$$\n",
        "C(k, n; p) = \\sum_{i=0}^k P(i, n;p) = \\sum_{i=0}^k {n \\choose i} p^i (1-p)^{n-i}\n",
        "$$\n",
        "\n",
        "Por convención entendemos que:\n",
        "\n",
        "$$C(k=3,n=6;p=0.5) = P(k \\leq 3, n=6, p=0.5 )$$\n",
        "\n",
        "\n",
        "`Ejemplo`: la probabilidad de obtener 3 o menos caras a partir de 6 lanzamientos consecutivos está dada por (tomando $p=0.5$, por lo tanto $1-p=0.5$):\n",
        "\n",
        "$$P(k \\leq 3, n=6;p=0.5) = \\sum_{i=0}^3 {6 \\choose i} \\left(\\frac{1}{2} \\right)^6 $$\n",
        "\n",
        "$$P(k \\leq 3, n=6;p=0.5) = \\left(\\frac{1}{2} \\right)^6 \\sum_{i=0}^3 {6 \\choose i} $$\n",
        "\n",
        "$$P(k \\leq 3, n=6;p=0.5) = \\left(\\frac{1}{2} \\right)^6 \\left\\{ {6 \\choose 0} + {6 \\choose 1} + {6 \\choose 2} + {6 \\choose 3} \\right\\}$$\n"
      ]
    },
    {
      "cell_type": "markdown",
      "metadata": {
        "id": "_03BrIqTkkH1"
      },
      "source": [
        "# Ejercicios (bloque 1)\n",
        "\n",
        "Calcula a mano las siguientes probabilidades (tomando $p=0.5$, por lo tanto $1-p=0.5$):\n",
        "\n",
        "1. Probabilidad de obtener 3 caras a partir de 12 lanzamientos de moneda: $5.28\\%$. <br>\n",
        "**Desarrollo:**\n",
        "$$P(k=3, n=12; p=0.5) = {\\frac {12!} {3!9!}} \\left( \\frac{1}{2}\\right)^{12}$$\n",
        "\n",
        " $$= {\\frac {12*11*10*9!} {3!9!}} \\left( \\frac{1}{2}\\right)^{12}$$\n",
        " \n",
        " $$= {\\frac {12*11*10} {3*2*1}} \\left( \\frac{1}{2}\\right)^{12}$$\n",
        " \n",
        " $$= {\\frac {1320} {6}} *(0.5)^{12} = 220*0.00024$$\n",
        " \n",
        " $$= 0.0528$$\n",
        "\n",
        "2. Probabilidad de obtener 5 o menos caras a partir de 10 lanzamientos de moneda: $62.2\\%$. <br>\n",
        "**Desarrollo:**\n",
        "$$P(k\\leq 5, n=10; p=0.5) = \\sum_{i=0}^5 {10 \\choose i} \\left( \\frac{1}{2}\\right)^{10}$$\n",
        "\n",
        "$$=  \\left( \\frac{1}{2}\\right)^{10} \\sum_{i=0}^5 {10 \\choose i} $$\n",
        "\n",
        "$$=\n",
        "\\left( \\frac{1}{2}\\right)^{10} \\left \\{ {10 \\choose 0} {10 \\choose 1} {10 \\choose 2} {10 \\choose 3} {10 \\choose 4} {10 \\choose 5} \\right \\}\n",
        "$$\n",
        "\n",
        "$$=\n",
        "\\left( \\frac{1}{2}\\right)^{10}\n",
        "\n",
        "\\left \\{ \n",
        "  \\left(  \\frac {10!} {0!10!} \\right)+\n",
        "  \\left(  \\frac {10!} {1!9!} \\right)+\n",
        "  \\left(  \\frac {10!} {2!8!} \\right)+\n",
        "  \\left(  \\frac {10!} {3!7!} \\right)+\n",
        "  \\left(  \\frac {10!} {4!9!} \\right)+\n",
        "  \\left(  \\frac {10!} {5!5!} \\right)  \n",
        "\\right \\}\n",
        "$$\n",
        "\n",
        "$$=\n",
        "\\left( \\frac{1}{2}\\right)^{10}\n",
        "\n",
        "\\left \\{ \n",
        "  (1)\n",
        "  \\left(  \\frac {10*9!} {1!9!} \\right)+\n",
        "  \\left(  \\frac {10*9*8!} {2!8!} \\right)+\n",
        "  \\left(  \\frac {10*9*8*7!} {3!7!} \\right)+\n",
        "  \\left(  \\frac {10*9*8*7*6!} {4!6!} \\right)+\n",
        "  \\left(  \\frac {10*9*8*7*6*5!} {5!5!} \\right)\n",
        "\\right \\}\n",
        "$$\n",
        "\n",
        "$$=\n",
        "\\left( \\frac{1}{2}\\right)^{10}\n",
        "\n",
        "\\left \\{ \n",
        "  1+\n",
        "  \\left(  \\frac {10} {1} \\right)+\n",
        "  \\left(  \\frac {90} {2} \\right)+\n",
        "  \\left(  \\frac {720} {6} \\right)+\n",
        "  \\left(  \\frac {5040} {24} \\right)+\n",
        "  \\left(  \\frac {30240} {120} \\right)\n",
        "\\right \\}\n",
        "$$\n",
        "\n",
        "$$= \\left( \\frac{1}{2}\\right)^{10} (1+10+45+120+210+252)$$\n",
        "\n",
        "$$0.000976 * 638 = 0.622$$\n",
        "\n",
        "3. Probabilidad de obtener menos de 6 caras a partir de 10 lanzamientos de moneda: $62.2\\%$. <br>\n",
        "**Desarrollo** (simplificado):\n",
        "$$P(k \\text{\\textless} 6, n=10; p=0.5) = \\sum_{i=0}^{n-1} {10 \\choose i} \\left( \\frac{1}{2}\\right)^{10}$$\n",
        "\n",
        "$$=  \\left( \\frac{1}{2}\\right)^{10} \\sum_{i=0}^5 {10 \\choose i} $$\n",
        "\n",
        "$$=\n",
        "\\left( \\frac{1}{2}\\right)^{10} \\left \\{ {10 \\choose 0} {10 \\choose 1} {10 \\choose 2} {10 \\choose 3} {10 \\choose 4} {10 \\choose 5} \\right \\}\n",
        "$$\n",
        "\n",
        "$$=\n",
        "\\left( \\frac{1}{2}\\right)^{10}\n",
        "\n",
        "\\left \\{ \n",
        "  \\left(  \\frac {10!} {0!10!} \\right)+\n",
        "  \\left(  \\frac {10!} {1!9!} \\right)+\n",
        "  \\left(  \\frac {10!} {2!8!} \\right)+\n",
        "  \\left(  \\frac {10!} {3!7!} \\right)+\n",
        "  \\left(  \\frac {10!} {4!9!} \\right)+\n",
        "  \\left(  \\frac {10!} {5!5!} \\right)  \n",
        "\\right \\}\n",
        "$$\n",
        "\n",
        "$$= \\left( \\frac{1}{2}\\right)^{10} (1+10+45+120+210+252)$$\n",
        "\n",
        "$$0.000976 * 638 = 0.622$$"
      ]
    },
    {
      "cell_type": "markdown",
      "metadata": {},
      "source": [
        "Calcula a mano las mismas probabilidades anteriores pero considerando ahora $p=0.3$.\n",
        "\n",
        "1. Probabilidad de obtener 3 caras a partir de 12 lanzamientos de moneda: $23.76\\%$ <br>\n",
        "**Desarrollo:**\n",
        "$$P(k=3, n=12; p=0.3) = {\\frac {12!} {3!9!}} \\left( \\frac{1}{3}\\right)^{3} \\left( \\frac{7}{9}\\right)^{9}$$\n",
        "\n",
        " $$= {\\frac {12*11*10*9!} {3!9!}} \\left( \\frac{1}{3}\\right)^{3} \\left( \\frac{7}{9}\\right)^{9}$$\n",
        " \n",
        " $$= {\\frac {12*11*10} {3*2*1}} \\left( \\frac{1}{3}\\right)^{3} \\left( \\frac{7}{9}\\right)^{9}$$\n",
        " \n",
        " $$= {\\frac {1320} {6}} * (0.3)^{3} * (0.7)^{9} = 220*0.027*0.04$$\n",
        " \n",
        " $$= 0.2376$$"
      ]
    },
    {
      "cell_type": "markdown",
      "metadata": {
        "id": "JW8Nt8avmVuB"
      },
      "source": [
        "# Bonus en Python"
      ]
    },
    {
      "cell_type": "code",
      "execution_count": 2,
      "metadata": {
        "id": "8cphK5HBUTaj"
      },
      "outputs": [],
      "source": [
        "from math import factorial\n",
        "\n",
        "# definición de la distribución binomial\n",
        "def my_binomial(k, n, p):\n",
        "  return factorial(n)/(factorial(k)*(factorial(n-k)))*pow(p,k)*pow(1-p, n-k)"
      ]
    },
    {
      "cell_type": "markdown",
      "metadata": {
        "id": "F-UASz0RmZVA"
      },
      "source": [
        "Usando la función `my_binomial()`, definida previamente, verifica el cálculo de todas las probabilidades del punto anterior.\n",
        "\n",
        "Ejemplo:\n",
        "\n",
        "$$P(k \\leq 3, n=6, p=0.5)$$\n",
        "\n",
        "Se traduce en :\n",
        "\n",
        "```python\n",
        "total = 0\n",
        "for n in range(4):\n",
        "  total += my_binomial(i,6,0.5)\n",
        "\n",
        "print(total)\n",
        "```"
      ]
    },
    {
      "cell_type": "code",
      "execution_count": 6,
      "metadata": {
        "id": "6p9n3hA-mYoP"
      },
      "outputs": [],
      "source": [
        "# escribe tu codigo aquí:\n",
        "def comulative(k, n, p):\n",
        "  cum = 0\n",
        "  for i in range(k):\n",
        "    cum = cum + my_binomial(i, n, p)\n",
        "  \n",
        "  return cum"
      ]
    },
    {
      "cell_type": "code",
      "execution_count": 10,
      "metadata": {},
      "outputs": [
        {
          "name": "stdout",
          "output_type": "stream",
          "text": [
            "Sabiendo que la probabilidad es de 0.5\n",
            "La probabilidad de obtener 3 o menos caras en 6 lanzamientos de moneda es: 0.65625\n",
            "Probabilidad de obtener 3 caras a partir de 12 lanzamientos de moneda. es: 0.0537109375\n",
            "Probabilidad de obtener 5 o menos caras a partir de 10 lanzamientos de moneda es: 0.623046875\n",
            "Probabilidad de obtener menos de 6 caras a partir de 10 lanzamientos de moneda. es: 0.623046875\n"
          ]
        }
      ],
      "source": [
        "print(\"Sabiendo que la probabilidad es de 0.5\")\n",
        "print(f\"La probabilidad de obtener 3 o menos caras en 6 lanzamientos de moneda es: {comulative(4, 6, 0.5)}\")\n",
        "\n",
        "print(f\"Probabilidad de obtener 3 caras a partir de 12 lanzamientos de moneda. es: {my_binomial(3, 12, 0.5)}\")\n",
        "print(f\"Probabilidad de obtener 5 o menos caras a partir de 10 lanzamientos de moneda es: {comulative(6, 10, 0.5)}\")\n",
        "print(f\"Probabilidad de obtener menos de 6 caras a partir de 10 lanzamientos de moneda. es: {comulative(6, 10, 0.5)}\")"
      ]
    },
    {
      "cell_type": "code",
      "execution_count": 11,
      "metadata": {},
      "outputs": [
        {
          "name": "stdout",
          "output_type": "stream",
          "text": [
            "Sabiendo que la probabilidad es de 0.3\n",
            "La probabilidad de obtener 3 o menos caras en 6 lanzamientos de moneda es: 0.9295299999999996\n",
            "Probabilidad de obtener 3 caras a partir de 12 lanzamientos de moneda. es: 0.23970042557999985\n",
            "Probabilidad de obtener 5 o menos caras a partir de 10 lanzamientos de moneda es: 0.9526510125999994\n",
            "Probabilidad de obtener menos de 6 caras a partir de 10 lanzamientos de moneda. es: 0.9526510125999994\n"
          ]
        }
      ],
      "source": [
        "print(\"Sabiendo que la probabilidad es de 0.3\")\n",
        "print(f\"La probabilidad de obtener 3 o menos caras en 6 lanzamientos de moneda es: {comulative(4, 6, 0.3)}\")\n",
        "\n",
        "print(f\"Probabilidad de obtener 3 caras a partir de 12 lanzamientos de moneda. es: {my_binomial(3, 12, 0.3)}\")\n",
        "print(f\"Probabilidad de obtener 5 o menos caras a partir de 10 lanzamientos de moneda es: {comulative(6, 10, 0.3)}\")\n",
        "print(f\"Probabilidad de obtener menos de 6 caras a partir de 10 lanzamientos de moneda. es: {comulative(6, 10, 0.3)}\")"
      ]
    }
  ],
  "metadata": {
    "colab": {
      "provenance": []
    },
    "kernelspec": {
      "display_name": "Python 3",
      "name": "python3"
    },
    "language_info": {
      "codemirror_mode": {
        "name": "ipython",
        "version": 3
      },
      "file_extension": ".py",
      "mimetype": "text/x-python",
      "name": "python",
      "nbconvert_exporter": "python",
      "pygments_lexer": "ipython3",
      "version": "3.10.9"
    }
  },
  "nbformat": 4,
  "nbformat_minor": 0
}
