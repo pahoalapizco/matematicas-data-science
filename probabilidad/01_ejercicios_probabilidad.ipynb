{
  "cells": [
    {
      "cell_type": "markdown",
      "metadata": {
        "id": "OuVGSARZqcKF"
      },
      "source": [
        "# Tipos de probabilidad (revisión de conceptos)\n",
        "\n",
        "Según lo visto en clase, tenemos tres tipos de probabilidad a definir. Sean A y B dos eventos aleatorios diferentes, entonces:\n",
        "\n",
        "---\n",
        "\n",
        "`Probabilidad conjunta`: sean $A$ y $B$ dos eventos aleatorios diferentes, definimos la probabilidad conjunta de que ambos eventos ocurran por medio de la regla del producto:\n",
        "\n",
        "$$P(A, B) = P(A|B)P(B)$$\n",
        "\n",
        "donde $P(A|B)$ se define como la `probabilidad condicional` de que ocurra A dado B, y $P(B)$ es la probabilidad de que ocurra B (sin conocimiento extra de otras variables).\n",
        "\n",
        "---\n",
        "\n",
        "`Probabilidad marginal`: la probabilidad marginal de A sobre una distribución conjunta de probabilidades en A y B, se define como la suma de todas las probabilidades conjuntas $P(A, B)$ considerando todos los posibles valores de B:\n",
        "\n",
        "$$P(A) = \\sum_{B=b} P(A,B) = \\sum_{B=b} P(A|B) P(B)$$\n",
        "\n"
      ]
    },
    {
      "cell_type": "markdown",
      "metadata": {
        "id": "YTVHbmebucgL"
      },
      "source": [
        "# Ejercicios (bloque 1)\n",
        "\n",
        "Considerando un lanzamiento de un dado y considerando los siguientes eventos aleatorios:\n",
        "\n",
        "A = {el resultado del lanzamiento de un dado es 6}\n",
        "\n",
        "B = {el resultado del lanzamiento de un dado es par}\n",
        "\n",
        "C = {el resultado del lanzamiento de un dado es impar}\n",
        "\n",
        "calcula las siguientes probabilidades:\n",
        "\n",
        "1. $P(A|B) = \\frac 1 3$, La probabilidad de obtener un $6$ dado que obtubimos par es de $33.3\\%$\n",
        "2. $P(A|C) = \\frac 0 3 = 0$, La probabilidad de obtener un $6$ dado que obtubimos un valor  impar es de $0\\%$\n",
        "3. $P(B|C) = \\frac 0 3 = 0$, La probabilidad de obtener un valor par dado que obtubimos un valor  impar es de $0\\%$\n"
      ]
    },
    {
      "cell_type": "markdown",
      "metadata": {},
      "source": [
        "### ✍️ Desglose de probabilidades de eventos indivisuales\n",
        "\n",
        "$P(A) = \\frac {1}{6}$, \n",
        "$P(B) = \\frac {3}{6} = \\frac 1 2$, \n",
        "$P(C) = \\frac {3}{6} = \\frac 1 2$\n",
        "\n",
        "📌 **NOTA:**: En la probabilidad condicional $P(X|Y)$, del resultado de $P(Y)$ el númerdor que obtengamos se convierte en los \"sucesos totales\" o bien el nuevo espacio muestral para la probabilidad de $X$ dado que $Y$ ha ocurrido."
      ]
    },
    {
      "cell_type": "markdown",
      "metadata": {
        "id": "8U9IOHWXv89f"
      },
      "source": [
        "# Ejercicios (bloque 2)\n",
        "\n",
        "Considerando una ruleta de doce números\n",
        "\n",
        "{$1,2,3,4,5,6,7,8,9,10,11,12$}\n",
        "\n",
        "dos jugadores eligen 6 números, cada uno de ellos. Supón que el jugador 1 elige A = {$1,2,3,4,5,6$} y calcula las siguientes probabilidades:\n",
        "\n",
        "1. $P(A|B)$ sabiendo que el jugador 2 elige B = {$2,4,6,8,10,12$}\n",
        "2. $P(A|B)$ sabiendo que el jugador 2 elige B = {$1,3,5,7,9,11$}\n",
        "3. $P(A|B)$ sabiendo que el jugador 2 elige B = {$5,6,7,8,9,10$}\n",
        "\n",
        "<br>\n",
        "\n",
        "**Solución**\n",
        "1. $P(A|B) = \\frac 3 6 = 0.5$ \n",
        "2. $P(A|B) = \\frac 3 6 = 0.5$  \n",
        "3. $P(A|B) = \\frac 2 6 = 0.333$  \n",
        "<br>\n",
        "\n",
        "📌 **NOTA:**: El resultado de las intersecciones entre los conjuntos de cada caso son los nuevos \"sucesos favorables\" en las probabilidades condicionales."
      ]
    },
    {
      "cell_type": "markdown",
      "metadata": {},
      "source": [
        "### ✍️ Desglose de probabilidades de eventos indivisuales e intersecciones\n",
        "\n",
        "**Probabilidados individuales**\n",
        "1. $P(A) = \\frac 6 {12}$\n",
        "2. $P(B) = \\frac 6 {12}$\n",
        "3. $P(C) = \\frac 6 {12}$\n",
        "\n",
        "<br>\n",
        "\n",
        "**Intersecciones**\n",
        "Sabiendo que A = {$1,2,3,4,5,6$}\n",
        "<br>\n",
        "1. $A \\cap \\{ 2,4,6,8,10,12 \\}$ = {$ 2, 4, 6 $}\n",
        "2. $A \\cap \\{ 1,3,5,7,9,11 \\}$ = {$  1,3,5 $}\n",
        "3. $A \\cap \\{ 5,6,7,8,9,10 \\}$ = {$ 5, 6 $}"
      ]
    },
    {
      "cell_type": "markdown",
      "metadata": {
        "id": "NibRqkn-0IlF"
      },
      "source": [
        "# Ejercicios (bloque 3)\n",
        "\n",
        "Considera un problema donde se lanzan dos monedas, sean $m_1$ y $m_2$. Verifica la regla del producto para las siguientes probabilidades (dibuja el espacio muestral y calcula cada probabilidad por separado):\n",
        "1. $P(m_1 = \\text{cara}, m_2 = \\text{sello}) = \\frac 1 4$\n",
        "2. $P(m_1 = \\text{cara} | m_2 = \\text{sello}) = \\frac 1 2$\n",
        "3. $P(m_2 = \\text{sello}) = \\frac 2 4 = \\frac 1 2$ "
      ]
    },
    {
      "cell_type": "markdown",
      "metadata": {},
      "source": [
        "**Espacio muestral**\n",
        "| | |\n",
        "|--|--|\n",
        "|😊➕ | ➕😊|\n",
        "|😊😊 | ➕➕|"
      ]
    },
    {
      "cell_type": "markdown",
      "metadata": {},
      "source": [
        "**Comprobando resultados**\n",
        "\n",
        "Comprobación en orden inverso:\n",
        "<br>\n",
        "**3.** Para la probabilidad $P(m_2 = \\text{sello})$ tenemos que de los 4 escenarios posibles en el espacio muestral, solo hay 2 casos favorables para obtener sello (➕) con la segunda moneda. <br> $\\therefore$ El resultado es de $\\frac 2 4$ \n",
        "\n",
        "**2.** En la probabilidad condicional $P(m_1 = \\text{cara} | m_2 = \\text{sello})$, sabiendo que $P(m_2 = \\text{sello})$ es $\\frac 2 4$, el espacio muestral se resuce a solo 2, y de esos 2 solo un caso es favorable.\n",
        "<br> $\\therefore$ El resultado es de $\\frac 1 2$ \n",
        "\n",
        "\n",
        "**1.** La probabilidad conjunta $P(m_1 = \\text{cara}, m_2 = \\text{sello})$ la obtenemos gracias a la regla del producto que dice:\n",
        "$$ \n",
        "P(A,B) = P(A | B) * P(B)\n",
        "$$\n",
        "Sabiendo eso, multiplicamos los resultados del punto 2 y 3, tendriamos entonces que:\n",
        "$$ \n",
        "P(A,B) = {\\frac 1 2} * {\\frac 1 2} = {\\frac 1 4} \n",
        "$$"
      ]
    }
  ],
  "metadata": {
    "colab": {
      "provenance": []
    },
    "kernelspec": {
      "display_name": "Python 3",
      "name": "python3"
    }
  },
  "nbformat": 4,
  "nbformat_minor": 0
}
