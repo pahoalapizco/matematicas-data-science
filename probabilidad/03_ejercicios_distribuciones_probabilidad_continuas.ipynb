{
  "cells": [
    {
      "cell_type": "markdown",
      "metadata": {
        "id": "7AZc-zbQsRD9"
      },
      "source": [
        "# Distribuciones continuas (e.j. gaussiana)\n",
        "\n",
        "Recordemos que la distribución de probabilidad normal o gaussiana está dada por:\n",
        "\n",
        "$$P(X) = \\frac{1}{\\sigma \\sqrt{2 \\pi}} \\exp{\\left[-\\frac{1}{2}\\left(\\frac{X-\\mu}{\\sigma} \\right)^2 \\right]}$$\n",
        "\n",
        "donde:\n",
        "\n",
        "* $\\mu$: media de la distribución\n",
        "* $\\sigma$: desviación estandar de la distribución\n",
        "\n",
        "`Ejemplo`: considerando una variable aleatoria que sigue una distribución normal con media $\\mu=4$ y desviación estándar $\\sigma=0.3$, la probabilidad de que dicha variable tome el valor de $0.2$ está dada por:\n",
        "\n",
        "$$P(0.2) =  \\frac{1}{0.3 \\sqrt{2 \\pi}} \\exp{\\left[-\\frac{1}{2}\\left(\\frac{0.2-4}{0.3} \\right)^2 \\right]}$$\n",
        "\n",
        "Lo cual en Python se traduce en:\n",
        "\n",
        "```python\n",
        "from scipy.stats import norm\n",
        "\n",
        "norm(mu, sigma).pdf(X)\n",
        "```\n",
        "\n",
        "---\n",
        "\n",
        "Así también, la distribucion de probabilidad acumulada correspondiente está dada por:\n",
        "\n",
        "$$C(X) = \\int_{x\\leq X} P(x)dx = \\int_{- \\infty}^xP(X)dX $$\n",
        "\n",
        "teniendo en cuenta que $Dom(X) = (-\\infty, \\infty)$.\n",
        "\n",
        "`Ejemplo`: considerando una variable aleatoria que sigue una distribucion normal con media $\\mu=4$ y desviación estándar $\\sigma=0.3$, la probabilidad de que dicha variable tome el valor de $0.2$ o menos está dada por:\n",
        "\n",
        "$$C(0.2) = \\int_{x \\leq 0.2} P(x)dx = \\int_{- \\infty}^{0.2}  \\left\\{\\frac{1}{0.3 \\sqrt{2 \\pi}} \\exp{\\left[-\\frac{1}{2}\\left(\\frac{X-4}{0.3} \\right)^2 \\right]} \\right\\} dX $$\n",
        "\n",
        "La cual se calcula en Python como:\n",
        "\n",
        "```python\n",
        "from scipy.stats import norm\n",
        "\n",
        "norm(mu, sigma).cdf(X)\n",
        "```\n",
        "\n",
        "_**Es importante recordar que la función de probabilidad acumulada de la distribución gaussiana no se puede calcular de forma exacta, ya que la integral anterior no tiene una expresión cerrada conocida. Es decir, los métodos de integración conocidos no funcionan para resolver esta integral.**_"
      ]
    },
    {
      "cell_type": "markdown",
      "metadata": {
        "id": "dUItRlD0u6Xz"
      },
      "source": [
        "# Ejercicios (bloque 1)\n",
        "\n",
        "Considerando una variable aleatoria que sigue una distribución normal con media $\\mu=4$ y desviación estándar $\\sigma=0.1$, calcula las siguientes probabilidades (usando Python):\n",
        "\n",
        "1. $P(X=4)$\n",
        "2. $P(X=-10)$\n",
        "3. $P(X=10)$\n",
        "4. $P(X \\leq 4)$\n",
        "6. $P(X \\leq 4)$\n"
      ]
    },
    {
      "cell_type": "code",
      "execution_count": 14,
      "metadata": {},
      "outputs": [
        {
          "name": "stdout",
          "output_type": "stream",
          "text": [
            "P(X = 4) = 3.989422804014327\n",
            "P(X = -10) = 0.0\n",
            "P(X = 10) = 0.0\n",
            "P(X <= 4) = 0.5\n",
            "P(X <= 4) = 0.5\n"
          ]
        }
      ],
      "source": [
        "from scipy.stats import norm\n",
        "mu, sig = 4, 0.1\n",
        "\n",
        "print(f\"P(X = 4) = {norm(mu, sig).pdf(4)}\")\n",
        "print(f\"P(X = -10) = {norm(mu, sig).pdf(-10)}\")\n",
        "print(f\"P(X = 10) = {norm(mu, sig).pdf(10)}\")\n",
        "print(f\"P(X <= 4) = {norm(mu, sig).cdf(4)}\")\n",
        "print(f\"P(X <= 4) = {norm(mu, sig).cdf(4)}\")"
      ]
    },
    {
      "cell_type": "markdown",
      "metadata": {
        "id": "gJZrejp27x1N"
      },
      "source": [
        "# De la binomial a la gaussiana\n",
        "\n",
        "En la clase 8 vimos como generar secuencias aleatorias de experimentos binomiales ([aquí](https://colab.research.google.com/drive/1MR9VZg19vHyZhvWWuxtNcy_3PZQ7AfwW?usp=sharing)), donde cada experimento era lanzar un cierto número de monedas.\n",
        "\n",
        "**¿Qué sucede si el número consecutivo de monedas que lanzamos en cada experimento (trial) es muy largo?**\n",
        "\n",
        "La función `generate_binomial_trials()` nos muestra lo que sucede si graficamos los resultados de muchos experimentos de lanzar 100 monedas en cada intento, con pyplot:"
      ]
    },
    {
      "cell_type": "code",
      "execution_count": 42,
      "metadata": {
        "colab": {
          "base_uri": "https://localhost:8080/",
          "height": 282
        },
        "id": "77J2bk7Io8aW",
        "outputId": "b6b18833-bf2f-4b95-fd05-483f9b3deaa1"
      },
      "outputs": [
        {
          "data": {
            "text/plain": [
              "<BarContainer object of 42 artists>"
            ]
          },
          "execution_count": 42,
          "metadata": {},
          "output_type": "execute_result"
        },
        {
          "data": {
            "image/png": "[encoded data removed]",
            "text/plain": [
              "<Figure size 640x480 with 1 Axes>"
            ]
          },
          "metadata": {},
          "output_type": "display_data"
        }
      ],
      "source": [
        "import numpy as np\n",
        "from numpy.random import binomial\n",
        "import matplotlib.pyplot as plt\n",
        "\n",
        "def generate_binomial_trials(trials=1000, coin_toss=100):\n",
        "  '''\n",
        "  el resultado de esta funcion es generar un conjuntos\n",
        "  de experimentos binomiales (trials) y de cada uno obtener\n",
        "  las cantidades de exitos en cada secuencia (e.j. lanzar monedas).\n",
        "\n",
        "  * trial: es una secuencia de <coin_toss> lanzamientos de moneda\n",
        "\n",
        "  * coin_toss: es el numero de monedas lanzadas en cada trial\n",
        "  '''\n",
        "  arr = []\n",
        "  for _ in range(trials):\n",
        "    arr.append(binomial(coin_toss, 0.5))\n",
        "  values, dist = np.unique(arr, return_counts=True)\n",
        "\n",
        "  return values, dist, np.array(arr)\n",
        "\n",
        "values, dist, sample = generate_binomial_trials(100000)\n",
        "plt.bar(values, dist)"
      ]
    },
    {
      "cell_type": "markdown",
      "metadata": {},
      "source": [
        "📌 **NOTA**: Añadí al retorno de la función un array con los datos generados de la simulación, con el objetivo de obtener la media y la desviación estándar, de esta manera se simula un caso real en el que se desconoce si la distribución es normal o no."
      ]
    },
    {
      "cell_type": "markdown",
      "metadata": {
        "id": "HQ8eIXdj9Vx-"
      },
      "source": [
        "¿Se parece a algo conocido? Tal vez una ditribución normal se ajuste, para verificarlo haremos el siguiente ejercicio:\n",
        "\n",
        "# Ejercicios (bloque 2)\n",
        "\n",
        "1. Con los resultados anteriores guardados en `values, dist` ajusta, usando el método de estimación paramétrica, una distribución gaussiana donde la media y desviación estándar correspondan a lo calculado a partir de los datos, de la misma manera que se hizo en el notebook de la clase 9 ([aquí](https://colab.research.google.com/drive/1weFtkmxdn_WnGW582Xugj9t7Mjzxis5b?usp=sharing))."
      ]
    },
    {
      "cell_type": "code",
      "execution_count": 44,
      "metadata": {
        "id": "vvVEjooO3qRq"
      },
      "outputs": [
        {
          "data": {
            "image/png": "[encoded data removed]",
            "text/plain": [
              "<Figure size 640x480 with 1 Axes>"
            ]
          },
          "metadata": {},
          "output_type": "display_data"
        }
      ],
      "source": [
        "# escribe tu código aquí:\n",
        "\n",
        "# 1. Obtener media y la desviación\n",
        "mu = sample.mean()\n",
        "sig = sample.std()\n",
        "\n",
        "# 2. Crear una nueva distribución para la estimación\n",
        "stimated_dist = norm(mu, sig)\n",
        "\n",
        "# 3. Generar array con los valores en el rango min y max de los datos \n",
        "stimated_values = [value for value in range(sample.min(), sample.max(), 1)]\n",
        "\n",
        "# 4. Obtenemos las probabilidades de los valores generados \n",
        "probabilities = [stimated_dist.pdf(value) for value in stimated_values]\n",
        "\n",
        "# 5. Graficamos\n",
        " # dividimos entre la longitud de los datos para ajustar a las probabilidades.\n",
        "plt.bar(values, dist/len(sample))\n",
        "plt.plot(stimated_values, probabilities, 'r')\n",
        "plt.show()"
      ]
    },
    {
      "cell_type": "markdown",
      "metadata": {
        "id": "VvlbR1VC-JX2"
      },
      "source": [
        "Si todo salió bien, habrás notado que en efecto una distribución normal se ajusta perfectamente a los datos. Esto se conoce como el **teorema del límite central**, el cual establece que en muchas situaciones conocidas, cuando variables aleatorias independientes se combinan, su total tiende a seguir una distribución normal cuando el número de variables que se combinan es muy grande $n \\rightarrow \\infty$."
      ]
    }
  ],
  "metadata": {
    "colab": {
      "provenance": []
    },
    "kernelspec": {
      "display_name": "Python 3",
      "name": "python3"
    },
    "language_info": {
      "codemirror_mode": {
        "name": "ipython",
        "version": 3
      },
      "file_extension": ".py",
      "mimetype": "text/x-python",
      "name": "python",
      "nbconvert_exporter": "python",
      "pygments_lexer": "ipython3",
      "version": "3.10.9"
    }
  },
  "nbformat": 4,
  "nbformat_minor": 0
}
