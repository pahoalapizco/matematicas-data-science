{
 "cells": [
  {
   "cell_type": "markdown",
   "metadata": {},
   "source": [
    "# Intervalos de confianza"
   ]
  },
  {
   "cell_type": "markdown",
   "metadata": {},
   "source": [
    "**Definción**: _Par o pares de valores de números entre los cuales se estima que estará cierto valor desconocido respecto a un parámetro poblacional con un determinado nivel de confianza._\n",
    "\n",
    "**Nivel de confianza**: Probabilidad de que el intervalo de confianza ($IC$) contenga el parámetro real de la población. <br>\n",
    "**Nivel de significación**: La probabilidad de quedar fuera del intervalo, o bien es todo aquello que esta porfuera del nivel de confianza, se denota como $\\alpha$. <br>\n",
    "\n",
    "Para calcular el $IC$ se puede reapizar utlizando $z\\text{-}value$ para muestras grandes (`n > 30`) o $t\\text{-}value$ para muestras pequeñas (`n < 30`), en cambos casos existen tablas donde se puede encontrar el valor correspondinete si deseamos hacer el cálculo manual."
   ]
  },
  {
   "cell_type": "markdown",
   "metadata": {},
   "source": [
    "## Formula\n",
    "Para muestras grandes:\n",
    "$$\n",
    "IC = \\text{\\=X} \\pm z * \\frac {S}{\\sqrt n}\n",
    "$$\n",
    "\n",
    "Donde: \n",
    "- $\\text{\\=X}$: La media muestral.\n",
    "- $z$: Valor $z$.\n",
    "- $S$: Desviación estándar de la muestra.\n",
    "- $n$: Tamaño de la muestra.\n",
    "\n",
    "Para muestras pequeñas se sustituye $z{\\text -}value$ por $t{\\text -}value$."
   ]
  },
  {
   "cell_type": "markdown",
   "metadata": {},
   "source": [
    "## Cálculo de intervalor de confianza"
   ]
  },
  {
   "cell_type": "code",
   "execution_count": 8,
   "metadata": {},
   "outputs": [],
   "source": [
    "import pandas as pd\n",
    "import numpy as np\n",
    "import seaborn as sns\n",
    "import matplotlib.pyplot as plt\n",
    "import statsmodels.api as sm"
   ]
  },
  {
   "cell_type": "markdown",
   "metadata": {},
   "source": [
    "Para este ejercicios se utilizará el dataset `iris` para el cálculo de $IC$ del `sepal length` a un $95\\%$ de nivel de confianza."
   ]
  },
  {
   "cell_type": "code",
   "execution_count": 3,
   "metadata": {},
   "outputs": [
    {
     "data": {
      "text/html": [
       "<div>\n",
       "<style scoped>\n",
       "    .dataframe tbody tr th:only-of-type {\n",
       "        vertical-align: middle;\n",
       "    }\n",
       "\n",
       "    .dataframe tbody tr th {\n",
       "        vertical-align: top;\n",
       "    }\n",
       "\n",
       "    .dataframe thead th {\n",
       "        text-align: right;\n",
       "    }\n",
       "</style>\n",
       "<table border=\"1\" class=\"dataframe\">\n",
       "  <thead>\n",
       "    <tr style=\"text-align: right;\">\n",
       "      <th></th>\n",
       "      <th>sepal_length</th>\n",
       "      <th>sepal_width</th>\n",
       "      <th>petal_length</th>\n",
       "      <th>petal_width</th>\n",
       "      <th>species</th>\n",
       "    </tr>\n",
       "  </thead>\n",
       "  <tbody>\n",
       "    <tr>\n",
       "      <th>0</th>\n",
       "      <td>5.1</td>\n",
       "      <td>3.5</td>\n",
       "      <td>1.4</td>\n",
       "      <td>0.2</td>\n",
       "      <td>setosa</td>\n",
       "    </tr>\n",
       "    <tr>\n",
       "      <th>1</th>\n",
       "      <td>4.9</td>\n",
       "      <td>3.0</td>\n",
       "      <td>1.4</td>\n",
       "      <td>0.2</td>\n",
       "      <td>setosa</td>\n",
       "    </tr>\n",
       "    <tr>\n",
       "      <th>2</th>\n",
       "      <td>4.7</td>\n",
       "      <td>3.2</td>\n",
       "      <td>1.3</td>\n",
       "      <td>0.2</td>\n",
       "      <td>setosa</td>\n",
       "    </tr>\n",
       "    <tr>\n",
       "      <th>3</th>\n",
       "      <td>4.6</td>\n",
       "      <td>3.1</td>\n",
       "      <td>1.5</td>\n",
       "      <td>0.2</td>\n",
       "      <td>setosa</td>\n",
       "    </tr>\n",
       "    <tr>\n",
       "      <th>4</th>\n",
       "      <td>5.0</td>\n",
       "      <td>3.6</td>\n",
       "      <td>1.4</td>\n",
       "      <td>0.2</td>\n",
       "      <td>setosa</td>\n",
       "    </tr>\n",
       "  </tbody>\n",
       "</table>\n",
       "</div>"
      ],
      "text/plain": [
       "   sepal_length  sepal_width  petal_length  petal_width species\n",
       "0           5.1          3.5           1.4          0.2  setosa\n",
       "1           4.9          3.0           1.4          0.2  setosa\n",
       "2           4.7          3.2           1.3          0.2  setosa\n",
       "3           4.6          3.1           1.5          0.2  setosa\n",
       "4           5.0          3.6           1.4          0.2  setosa"
      ]
     },
     "execution_count": 3,
     "metadata": {},
     "output_type": "execute_result"
    }
   ],
   "source": [
    "iris = sns.load_dataset(\"iris\")\n",
    "iris.head()"
   ]
  },
  {
   "cell_type": "markdown",
   "metadata": {},
   "source": [
    "### Cálculo de $IC$"
   ]
  },
  {
   "cell_type": "code",
   "execution_count": 7,
   "metadata": {},
   "outputs": [
    {
     "name": "stdout",
     "output_type": "stream",
     "text": [
      "Intervalo de confianza:\n",
      "inferior = 5.710815153527241, superior = 5.9758515131394265\n",
      "media = 5.843333333333334\n"
     ]
    }
   ],
   "source": [
    "mean = iris[\"sepal_length\"].mean()\n",
    "std = iris[\"sepal_length\"].std()\n",
    "n = len(iris)\n",
    "# Standar Error\n",
    "se = std / np.sqrt(n)\n",
    "z = 1.96\n",
    "\n",
    "ic_lower = mean - (z * se)\n",
    "ic_upper = mean + (z * se)\n",
    "\n",
    "print(f\"Intervalo de confianza:\")\n",
    "print(f\"inferior = {ic_lower}, superior = {ic_upper}\")\n",
    "print(f\"media = {mean}\")"
   ]
  },
  {
   "cell_type": "markdown",
   "metadata": {},
   "source": [
    "Comprobación con la libreria `statsmodels`:"
   ]
  },
  {
   "cell_type": "code",
   "execution_count": 9,
   "metadata": {},
   "outputs": [
    {
     "name": "stdout",
     "output_type": "stream",
     "text": [
      "Intervalo de confianza:\n",
      "inferior = 5.710817588579892, superior = 5.9758490780867755\n"
     ]
    }
   ],
   "source": [
    "icl, icu = sm.stats.DescrStatsW(iris[\"sepal_length\"]).zconfint_mean()\n",
    "print(f\"Intervalo de confianza:\")\n",
    "print(f\"inferior = {icl}, superior = {icu}\")"
   ]
  },
  {
   "cell_type": "markdown",
   "metadata": {},
   "source": [
    "Grafica de la distribución con el intervalo de confianza al $95\\%$"
   ]
  },
  {
   "cell_type": "code",
   "execution_count": 16,
   "metadata": {},
   "outputs": [
    {
     "data": {
      "text/plain": [
       "Text(0.5, 1.0, 'IC con un 95% de nivel de confianza')"
      ]
     },
     "execution_count": 16,
     "metadata": {},
     "output_type": "execute_result"
    },
    {
     "data": {
      "image/png": "[encoded data removed]",
      "text/plain": [
       "<Figure size 640x480 with 1 Axes>"
      ]
     },
     "metadata": {},
     "output_type": "display_data"
    }
   ],
   "source": [
    "ax = sns.kdeplot(x=iris[\"sepal_length\"], fill=True, color=\"limegreen\",)\n",
    "ax.axvline(x=ic_lower, ymin=0, ymax=1)\n",
    "ax.axvline(x=ic_upper, ymin=0, ymax=1)\n",
    "ax.set_title(\"IC con un 95% de nivel de confianza\")"
   ]
  }
 ],
 "metadata": {
  "kernelspec": {
   "display_name": "cursos-ds",
   "language": "python",
   "name": "python3"
  },
  "language_info": {
   "codemirror_mode": {
    "name": "ipython",
    "version": 3
   },
   "file_extension": ".py",
   "mimetype": "text/x-python",
   "name": "python",
   "nbconvert_exporter": "python",
   "pygments_lexer": "ipython3",
   "version": "3.10.9"
  }
 },
 "nbformat": 4,
 "nbformat_minor": 2
}
