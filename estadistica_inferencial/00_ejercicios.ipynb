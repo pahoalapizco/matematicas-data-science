{
 "cells": [
  {
   "cell_type": "markdown",
   "metadata": {},
   "source": [
    "# Ejercicios "
   ]
  },
  {
   "cell_type": "markdown",
   "metadata": {},
   "source": [
    "Ejercicios adicionales propuestos en el curso de [estadística inferencial](https://platzi.com/cursos/estadistica-inferencial-python/) de [Platzi](https://platzi.com)"
   ]
  },
  {
   "cell_type": "markdown",
   "metadata": {},
   "source": [
    "## Formulas"
   ]
  },
  {
   "cell_type": "markdown",
   "metadata": {},
   "source": [
    "![Formulas: Media, Varianza y Desviación esandar](./imgs/formulas_media-var-des.png)"
   ]
  },
  {
   "cell_type": "markdown",
   "metadata": {},
   "source": [
    "### 01 - Medidas de dispersión\n",
    "1. Calcula la varianza y desviación estándar .\n",
    "2. Toma una muestra de los datos y calcula la varianza y desviación estándar muestral de la población.\n",
    "\n",
    "Población: `[7, 10, 12, 13, 16, 9, 8, 12, 8, 6, 16, 23, 11, 17, 20, 21, 25, 30, 31, 33, 37, 39, 27, 36, 40, 43, 41, 45]`\n",
    "\n",
    "📌 La solución a los ejercicios no se realizará con librerias externas como `pandas` o `numpy`."
   ]
  },
  {
   "cell_type": "code",
   "execution_count": 5,
   "metadata": {},
   "outputs": [],
   "source": [
    "# Cálculo de la media\n",
    "def mean(data):\n",
    "  n = len(data)\n",
    "  if n == 0: return 0\n",
    "\n",
    "  mu = sum(data)/n\n",
    "  \n",
    "  return mu"
   ]
  },
  {
   "cell_type": "code",
   "execution_count": 10,
   "metadata": {},
   "outputs": [],
   "source": [
    "# Cálculo de la varianza\n",
    "def variance(data, is_sample=False):\n",
    "  n = len(data)\n",
    "  if n == 0: return 0\n",
    "\n",
    "  n = n if not is_sample else n - 1  \n",
    "  data_mean = mean(data)\n",
    "  var = sum([(x - data_mean)**2 for x in data]) / n\n",
    "\n",
    "  return var"
   ]
  },
  {
   "cell_type": "code",
   "execution_count": 11,
   "metadata": {},
   "outputs": [],
   "source": [
    "import math\n",
    "# Cálculo de la desviación estándar\n",
    "def std(data, is_sample=False):\n",
    "  standard_dev = math.sqrt(variance(data, is_sample))\n",
    "\n",
    "  return standard_dev"
   ]
  },
  {
   "cell_type": "code",
   "execution_count": 12,
   "metadata": {},
   "outputs": [
    {
     "name": "stdout",
     "output_type": "stream",
     "text": [
      "Media: 22.714285714285715\n",
      "Varianza de la población: 155.06122448979593, desviación estandar de la población: 12.452358189909088\n",
      "Varianza muestral: 160.8042328042328, desviación estandar muestral: 12.680860885769263\n"
     ]
    }
   ],
   "source": [
    "population = [7, 10, 12, 13, 16, 9, 8, 12, 8, 6, 16, 23, 11, 17, 20, 21, 25, 30, 31, 33, 37, 39, 27, 36, 40, 43, 41, 45]\n",
    "\n",
    "p_mean = mean(population)\n",
    "print(f\"Media: {p_mean}\")\n",
    "\n",
    "# Varianza y desviación estandar poblacional\n",
    "p_var = variance(population)\n",
    "p_std = std(population)\n",
    "\n",
    "print(f\"Varianza de la población: {p_var}, desviación estandar de la población: {p_std}\")\n",
    "# Varianza y desviación estandar muestral\n",
    "s_var = variance(population, True)\n",
    "s_std = std(population, True)\n",
    "\n",
    "print(f\"Varianza muestral: {s_var}, desviación estandar muestral: {s_std}\")"
   ]
  }
 ],
 "metadata": {
  "kernelspec": {
   "display_name": "cursos-ds",
   "language": "python",
   "name": "python3"
  },
  "language_info": {
   "codemirror_mode": {
    "name": "ipython",
    "version": 3
   },
   "file_extension": ".py",
   "mimetype": "text/x-python",
   "name": "python",
   "nbconvert_exporter": "python",
   "pygments_lexer": "ipython3",
   "version": "3.10.9"
  }
 },
 "nbformat": 4,
 "nbformat_minor": 2
}
