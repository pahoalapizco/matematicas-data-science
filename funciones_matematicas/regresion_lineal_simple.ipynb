{
 "cells": [
  {
   "attachments": {},
   "cell_type": "markdown",
   "metadata": {},
   "source": [
    "# Regresión lineal simple"
   ]
  },
  {
   "attachments": {},
   "cell_type": "markdown",
   "metadata": {},
   "source": [
    "La regresión lineal es un algoritmo de regresión perteneciente a la familia de algoritmos de Machine Learning. <br>\n",
    "Nos ayuda a **predecir** datos futuros o previos con un set de datos utilizando una linea recta que trate de pasar por la mayoria de los datos. \n",
    "\n",
    "Este algoritmo es un termino estadístico que se conoce como un modelo matemático, que nos ayuda a encontrar la relación entre un valor desconocido (variable _dependiente_) a partir de un valor relacionado conocido (variable _independiente_) que tenga el modelo.\n",
    "\n",
    "**Ecuación**\n",
    "$$\n",
    "y = \\beta x + \\alpha\n",
    "$$\n",
    "\n",
    "**Composición**\n",
    "- $y$: Variable dependiente\n",
    "- $x$: Varible independiente\n",
    "- $\\beta$: Pendiente\n",
    "- $\\alpha$: Ordenada al origen (valor teorico de la variable $y$ cuando $x$ vale $0$)\n",
    "\n",
    "Si prestamos atención la ecuación de la regresión lineal es igual a la función lineal que dibuja una recta $y = mx + b$, lo que cambia es la representación de la pendiente y la ordenada al origen. <br>\n",
    "\n",
    "La linea recta que se debe trazar a lo largo de los datos, tiene dos incognitas la pendiente $\\beta$ y la ordenada al origen $\\alpha$, por lo tanto necesitamos encontrar aquellos valores que mejor se ajusten a los datos, pues podemos encontrar más de una linea recta que se aproxime a los datos con los que estamos trabajando, sin embargo no todas esas rectas son las mejores. La forma de encontrar la recta ideal es midiendo que tan \"equivocados\" estamos, para ello se utiliza el _método de mínimos cuadrados_, que nos dira si la recta que estamos usando es la mejor.\n",
    "\n",
    "> **NOTA** Se llama regresión lineal _simple_ porque solo podemos inclui una sola variable independiente."
   ]
  },
  {
   "attachments": {},
   "cell_type": "markdown",
   "metadata": {},
   "source": [
    "## Método de mínimos cuadrados"
   ]
  },
  {
   "attachments": {},
   "cell_type": "markdown",
   "metadata": {},
   "source": [
    "Los mínimos cuadrados es un procedimiento de análisis numérico en el que, dado un conjunto de datos, se intenta determinar la función continua que mejor se aproxime a los datos (línea de regresión o la línea de mejor ajuste), proporcionando una demostración visual de la relación entre los puntos. <br>\n",
    "Busca minimizar la suma de cuadrados de las diferencias ordenadas (residuos) entre los puntos generados por la función línea y los datos datos. <br>\n",
    "\n",
    "**Ecuación**\n",
    "$$\n",
    "\\hat y = {\\beta}_0 + {\\beta}_{1}x\n",
    "$$\n",
    "\n",
    "**Composición**\n",
    "- $\\hat y$: Valor predicho por la línea de ajuste.\n",
    "- ${\\beta}_0$: Termino de intersección de la línea de ajuste\n",
    "- ${\\beta}_1$: Pendiente de la línea de ajuste.\n",
    "- $x$: Valor de la variable independiente\n",
    "\n",
    "La idea es encontrar los valores óptimos de ${\\beta}_0$ y ${\\beta}_1$ que minimicen la suma de los errores al cuadrado. <br>\n",
    "Para lograrlo tenemos la siguiente ecuación que nos ayuda a determinar el valor para ${\\beta}_1$ (pendiente de la línea de ajuste).\n",
    "$$\n",
    "   {\\beta}_1 =  \\frac { \\sum_ (x - \\text{\\={x}}) (y - \\text{\\={y}}) }{ \\sum_ (x - \\text{\\={x}})^2}\n",
    "$$\n",
    "\n",
    "Para encontrar el valor de la intersección de la línea de ajuste lo logramos al despejar ${\\beta}_0$ de la ecuación original y posteriormente sustituyendo los valores para ${\\beta}_1$, $\\hat y$ y $x$. <br>\n",
    "Quedadon de la siguiente manera\n",
    "$$\n",
    "    {\\beta}_0 = \\hat y - {\\beta}_{1}x\n",
    "$$\n",
    "\n",
    "Donde los valores correspondientes para $x$ y $y$ serían sus medias ($\\text{\\={x}}$ y $\\text{\\={y}}$). Se toman los valroes de las medias debido a que ambos forman un punto por el cual SI o SI la recta de regresión lineal debe cruzar. <br>"
   ]
  },
  {
   "attachments": {},
   "cell_type": "markdown",
   "metadata": {},
   "source": [
    "## Error cuadratico medio (ECM)"
   ]
  },
  {
   "attachments": {},
   "cell_type": "markdown",
   "metadata": {},
   "source": [
    "El error cuadratico medio, es una medida del rendimiento de un modelo de regresión lineal. <br>\n",
    "Es una metrica que cuantifica la diferencia promedio entre los valores reales y los valores predichos por el modelo. El objetivo es minimizar este error para obtener un ajuste más preciso.\n",
    "\n",
    "**Ecuación**\n",
    "$$\n",
    "ECM = {\\frac 1 n} {\\sum (y_{i} - \\hat y)^2}\n",
    "$$\n",
    "\n",
    "**Composición**\n",
    "- $EMC$: Error cuadrativo medio.\n",
    "- $n$: Número de puntos de datos.\n",
    "- $y_{i}$: Valor real del punto de datos en $i$.\n",
    "- $\\hat y$: Valor predicho por el modelo en el punto de datos $i$.\n",
    "\n",
    "El objetivo es minimizar el valor de $ECM$."
   ]
  },
  {
   "attachments": {},
   "cell_type": "markdown",
   "metadata": {},
   "source": [
    "## Ejercicio practico de regresión lineal"
   ]
  },
  {
   "attachments": {},
   "cell_type": "markdown",
   "metadata": {},
   "source": [
    "Suponiendo que contamos con la siguiente tabla, en la cual se  relacionan los gastado en publicidad con sus respectivas ganacias generadas (expresadas en miles de DLLs).\n",
    "| Gasto en punlicidad | Ganancias |\n",
    "| --- | --- |\n",
    "| 1.2 | 2 |\n",
    "| 2 | 3 |\n",
    "| 3.2 | 3.4 |\n",
    "| 2.5 | 3.1 |\n",
    "| 5 | 4 |\n",
    "| 6 | 4.7 |\n",
    "| 4 | 3.8 |\n",
    "| 8 | 7 |\n",
    "\n",
    "Debemos aplicar tecnicas de regresión líneal para encontrar la recta que mejor se ajuste a los datos y calcular el errir cuadratico medio. <br>\n",
    "Para resolverlo se aplica cada punto explicado en la parte superior de este documento."
   ]
  },
  {
   "attachments": {},
   "cell_type": "markdown",
   "metadata": {},
   "source": [
    "Importamos las librerias que vamos a necesitar"
   ]
  },
  {
   "cell_type": "code",
   "execution_count": 1,
   "metadata": {},
   "outputs": [],
   "source": [
    "import numpy as np\n",
    "import matplotlib.pyplot as plt"
   ]
  },
  {
   "attachments": {},
   "cell_type": "markdown",
   "metadata": {},
   "source": [
    "**Empezamos aplicando el método de mínimos cuadrados**"
   ]
  },
  {
   "attachments": {},
   "cell_type": "markdown",
   "metadata": {},
   "source": [
    "Implementamos el algoritomo para determinar los valores de ${\\beta}_0$ y ${\\beta}_1$"
   ]
  },
  {
   "cell_type": "code",
   "execution_count": 29,
   "metadata": {},
   "outputs": [],
   "source": [
    "def get_b0_b1(x, y):\n",
    "    # obtenemos las medias de x y y\n",
    "    m_x, m_y = np.mean(x), np.mean(y)\n",
    "    \n",
    "    # aplicamos la formula para b1\n",
    "    b1 = np.sum((x - m_x) * (y - m_y)) / np.sum((x - m_x) ** 2)\n",
    "\n",
    "    # aplicamos la formula para b0\n",
    "    b0 = m_y - b1 * m_x\n",
    "    return (b0, b1)"
   ]
  },
  {
   "attachments": {},
   "cell_type": "markdown",
   "metadata": {},
   "source": [
    "Una vez calculados los valores de ${\\beta}_0$ (intersección) y ${\\beta}_1$(pendiete) procedemos a generar valores para $\\hat y$"
   ]
  },
  {
   "cell_type": "code",
   "execution_count": 60,
   "metadata": {},
   "outputs": [],
   "source": [
    "def generete_y_hat(x, y):\n",
    "    y_hat = np.size(x)\n",
    "    b0, b1 = get_b0_b1(x, y)\n",
    "\n",
    "    # Aplicamos la ecuación para obtener los valores de y en la línea de ajuste\n",
    "    y_hat = b0 + (b1 * x)\n",
    "\n",
    "    return y_hat"
   ]
  },
  {
   "attachments": {},
   "cell_type": "markdown",
   "metadata": {},
   "source": [
    "Creamos una función para crear la grafica de los datos y la línea recta de la regresión líneal."
   ]
  },
  {
   "cell_type": "code",
   "execution_count": 53,
   "metadata": {},
   "outputs": [],
   "source": [
    "def generate_plot(x, y):\n",
    "    fig, ax = plt.subplots()\n",
    "    # Scatter de los datos\n",
    "    ax.scatter(x, y, label='Puntos de entrada')\n",
    "    # Obtenemos los valores para la línea de ajuste\n",
    "    y_hat = generete_y_hat(x, y)\n",
    "    # Línea de regresión\n",
    "    ax.plot(x, y_hat, 'g', label='Línea de ajuste')\n",
    "\n",
    "    # Dibujamos en el plano el punto correspondientes a los valores de las medias de x y y\n",
    "    m_x, m_y = np.mean(x), np.mean(y)\n",
    "    ax.plot(m_x, m_y, 'ro', label='Media')\n",
    "\n",
    "    ax.set_title(f'Gastos vs Ganancias')\n",
    "    ax.set_xlabel('Gasto en publicidad')\n",
    "    ax.set_ylabel('Ganancias')\n",
    "    ax.legend()\n",
    "    plt.grid()\n",
    "    plt.show()\n"
   ]
  },
  {
   "attachments": {},
   "cell_type": "markdown",
   "metadata": {},
   "source": [
    "Calculamos el _Error Cuadratico Medio_"
   ]
  },
  {
   "cell_type": "code",
   "execution_count": 54,
   "metadata": {},
   "outputs": [],
   "source": [
    "def ECM(x, y):\n",
    "    n = len(y)\n",
    "    y_hat = generete_y_hat(x, y)\n",
    "    ecm = (1/n) * np.sum((y - y_hat) ** 2)\n",
    "    return ecm"
   ]
  },
  {
   "attachments": {},
   "cell_type": "markdown",
   "metadata": {},
   "source": [
    "Creamos los `arrays` con los datos de la tabla:"
   ]
  },
  {
   "cell_type": "code",
   "execution_count": 55,
   "metadata": {},
   "outputs": [
    {
     "name": "stdout",
     "output_type": "stream",
     "text": [
      "gastado: (8,)\n",
      "ganancias: (8,)\n"
     ]
    },
    {
     "data": {
      "image/png": "[encoded data removed]",
      "text/plain": [
       "<Figure size 640x480 with 1 Axes>"
      ]
     },
     "metadata": {},
     "output_type": "display_data"
    },
    {
     "name": "stdout",
     "output_type": "stream",
     "text": [
      "El error cuadratico medio de la regresión es de 0.125378634153168\n"
     ]
    }
   ],
   "source": [
    "# Casteamos todos los valores al mismo tipo de dato, en este caso float64 para tener más presición.\n",
    "gastado = np.array([1.2, 2, 3.2, 2.5, 5, 6, 4, 8], dtype='float64')\n",
    "ganancias = np.array([2, 3, 3.4, 3.1, 4, 4.7, 3.8, 7], dtype='float64')\n",
    "\n",
    "print(f'gastado: {gastado.shape}')\n",
    "print(f'ganancias: {ganancias.shape}')\n",
    "\n",
    "generate_plot(gastado, ganancias)\n",
    "\n",
    "ecm = ECM(gastado, ganancias)\n",
    "print(f'El error cuadratico medio de la regresión es de {ecm}')"
   ]
  }
 ],
 "metadata": {
  "kernelspec": {
   "display_name": "cursos-ds",
   "language": "python",
   "name": "python3"
  },
  "language_info": {
   "codemirror_mode": {
    "name": "ipython",
    "version": 3
   },
   "file_extension": ".py",
   "mimetype": "text/x-python",
   "name": "python",
   "nbconvert_exporter": "python",
   "pygments_lexer": "ipython3",
   "version": "3.10.9"
  },
  "orig_nbformat": 4
 },
 "nbformat": 4,
 "nbformat_minor": 2
}
