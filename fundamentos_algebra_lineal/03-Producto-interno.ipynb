{
 "cells": [
  {
   "cell_type": "markdown",
   "metadata": {},
   "source": [
    "# Producto interno"
   ]
  },
  {
   "cell_type": "markdown",
   "metadata": {},
   "source": [
    "El producto interno permite calcular magnitudes, distancias y ángulos en un espacio vectorial.\n",
    "\n",
    "Es una forma determinada de unir dos vectores para obtener un número. Lo podemos representar de la siguiente manera:\n",
    "\n",
    "$$\n",
    "\\begin{bmatrix}\n",
    "   a_{11}  \\\\\n",
    "   a_{21} \n",
    "\\end{bmatrix}\n",
    "\n",
    "\\centerdot\n",
    "\n",
    "\\begin{bmatrix}\n",
    "   b_{11}  \\\\\n",
    "   b_{21} \n",
    "\\end{bmatrix}\n",
    "\n",
    "=\n",
    "a_{11} * b_{11} + a_{21}*b_{21}\n",
    "$$\n",
    "\n",
    "Ejemplo:\n",
    "\n",
    "$$\n",
    "\\begin{bmatrix}\n",
    "   2  \\\\\n",
    "   7  \\\\\n",
    "   1\n",
    "\\end{bmatrix}\n",
    "\n",
    "\\centerdot\n",
    "\n",
    "\\begin{bmatrix}\n",
    "   8  \\\\\n",
    "   2  \\\\\n",
    "   8\n",
    "\\end{bmatrix}\n",
    "\n",
    "=\n",
    "(2 * 8) + (7 *2 ) + (1*8) = 16+14+8 = 38\n",
    "$$"
   ]
  },
  {
   "cell_type": "code",
   "execution_count": 1,
   "metadata": {},
   "outputs": [],
   "source": [
    "import numpy as np"
   ]
  },
  {
   "cell_type": "code",
   "execution_count": 2,
   "metadata": {},
   "outputs": [
    {
     "data": {
      "text/plain": [
       "38"
      ]
     },
     "execution_count": 2,
     "metadata": {},
     "output_type": "execute_result"
    }
   ],
   "source": [
    "v1 = np.array([2,7,1])\n",
    "v2 = np.array([8,2,8])\n",
    "np.dot(v1, v2)"
   ]
  },
  {
   "cell_type": "markdown",
   "metadata": {},
   "source": [
    "## Producto interno entre una matriz y un vector"
   ]
  },
  {
   "cell_type": "markdown",
   "metadata": {},
   "source": [
    "Cuando calculamos el producto interno entre dos vectores obtenemos un valor escalar (elemento que en su conjunto forma un vector).\n",
    "\n",
    "Cuando calculamos el producto interno una matriz y un vector, obtemos un vector como resultado (un vector en conjunto con otros forma una matriz).\n",
    "\n",
    "Sin embargo para calcular el producto interno de estos dos elementos, la matriz debe tener el mismo número de columnas que un vector tiene de elementos.\n",
    "\n",
    "\n",
    "Lo podemos representar:\n",
    "\n",
    "$$\n",
    "\\begin{bmatrix}\n",
    "   a_{11} & a_{12} \\\\ \n",
    "   a_{21} & a_{22} \\\\ \n",
    "   a_{31} & a_{32} \\\\ \n",
    "\\end{bmatrix}\n",
    "\n",
    "\\centerdot\n",
    " \n",
    "\\begin{bmatrix}\n",
    "   b_{11}  \\\\ \n",
    "   b_{21}\n",
    "\\end{bmatrix}\n",
    "\n",
    "=\n",
    " \n",
    "\\begin{bmatrix}\n",
    "   a_{11}*b_{11} + a_{12}*b_{21} \\\\ \n",
    "   a_{21}*b_{11} + a_{22}*b_{21} \\\\\n",
    "   a_{21}*b_{11} + a_{22}*b_{21} \n",
    "\\end{bmatrix}\n",
    "$$\n",
    "\n",
    "Ejemplo:\n",
    "$$\n",
    "\\begin{bmatrix}\n",
    "   1 & 2 \\\\ \n",
    "   3 & 4 \\\\ \n",
    "   5 & 6 \\\\ \n",
    "\\end{bmatrix}\n",
    "\n",
    "\\centerdot\n",
    " \n",
    "\\begin{bmatrix}\n",
    "   2  \\\\ \n",
    "   3\n",
    "\\end{bmatrix}\n",
    "\n",
    "=\n",
    " \n",
    "\\begin{bmatrix}\n",
    "   (1*2) + (2*3) \\\\\n",
    "   (3*2) + (4*3) \\\\\n",
    "   (5*2) + (6*3)\n",
    "\\end{bmatrix}\n",
    "\n",
    "=\n",
    " \n",
    "\\begin{bmatrix}\n",
    "   2 + 6 \\\\\n",
    "   6 + 12 \\\\\n",
    "   10 + 18\n",
    "\\end{bmatrix}\n",
    "\n",
    "=\n",
    " \n",
    "\\begin{bmatrix}\n",
    "   8\\\\\n",
    "   20\\\\\n",
    "   28\n",
    "\\end{bmatrix}\n",
    "$$\n",
    "\n",
    "\n"
   ]
  },
  {
   "cell_type": "code",
   "execution_count": 3,
   "metadata": {},
   "outputs": [],
   "source": [
    "vector = np.array([2,3])\n",
    "matriz = np.array([[1,2], [3,4],[5,6]])"
   ]
  },
  {
   "cell_type": "code",
   "execution_count": 4,
   "metadata": {},
   "outputs": [
    {
     "name": "stdout",
     "output_type": "stream",
     "text": [
      "[ 8 18 28]\n",
      "[ 8 18 28]\n"
     ]
    }
   ],
   "source": [
    "print(matriz.dot(vector))\n",
    "print(np.dot(matriz, vector))"
   ]
  },
  {
   "cell_type": "markdown",
   "metadata": {},
   "source": [
    "No es lo mismo una multiplicación de un vector con otro vector y con otra matriz, pues como resultado obtenemos la multiplicaciones de los valores que conforman estos elementos en la estructura de mayor dimensión.\n",
    "\n",
    "Si multiplicamos dos vectores, obtenemos un vector.\n",
    "$$\n",
    "\\begin{bmatrix}\n",
    "   a_{11}  \\\\\n",
    "   a_{21} \n",
    "\\end{bmatrix}\n",
    "\n",
    "\\centerdot\n",
    "\n",
    "\\begin{bmatrix}\n",
    "   b_{11}  \\\\\n",
    "   b_{21} \n",
    "\\end{bmatrix}\n",
    "\n",
    "=\n",
    "\\begin{bmatrix}\n",
    "   a_{11} * b_{11}  \\\\\n",
    "   a_{21} * b_{21} \n",
    "\\end{bmatrix}\n",
    "$$\n",
    "\n",
    "\n",
    "Si multiplicamos una matriz con un vector, obtenemos una matriz.\n",
    "\n",
    "$$\n",
    "\\begin{bmatrix}\n",
    "   a_{11} & a_{12} \\\\ \n",
    "   a_{21} & a_{22} \\\\ \n",
    "   a_{31} & a_{32} \\\\ \n",
    "\\end{bmatrix}\n",
    "\n",
    "\\centerdot\n",
    " \n",
    "\\begin{bmatrix}\n",
    "   b_{11}  \\\\ \n",
    "   b_{21}\n",
    "\\end{bmatrix}\n",
    "\n",
    "=\n",
    " \n",
    "\\begin{bmatrix}\n",
    "   a_{11}*b_{11} & a_{12}*b_{21} \\\\ \n",
    "   a_{21}*b_{11} & a_{22}*b_{21} \\\\\n",
    "   a_{21}*b_{11} & a_{22}*b_{21} \n",
    "\\end{bmatrix}\n",
    "$$\n",
    "\n",
    "\n",
    "Ejemplo de vector * vector:\n",
    "\n",
    "$$\n",
    "\\begin{bmatrix}\n",
    "   2  \\\\\n",
    "   7  \\\\\n",
    "   1\n",
    "\\end{bmatrix}\n",
    "\n",
    "\\centerdot\n",
    "\n",
    "\\begin{bmatrix}\n",
    "   8  \\\\\n",
    "   2  \\\\\n",
    "   8\n",
    "\\end{bmatrix}\n",
    "\n",
    "=\n",
    "\\begin{bmatrix}\n",
    "   2 * 8 \\\\\n",
    "   7 *2  \\\\\n",
    "   1*8\n",
    "\\end{bmatrix}\n",
    "=\n",
    "\\begin{bmatrix}\n",
    "   16 \\\\\n",
    "   14 \\\\\n",
    "   8\n",
    "\\end{bmatrix}\n",
    "\n",
    "$$\n",
    "\n",
    "Ejemplo de matriz * vector:\n",
    "$$\n",
    "\\begin{bmatrix}\n",
    "   1 & 2 \\\\ \n",
    "   3 & 4 \\\\ \n",
    "   5 & 6 \\\\ \n",
    "\\end{bmatrix}\n",
    "\n",
    "\\centerdot\n",
    " \n",
    "\\begin{bmatrix}\n",
    "   2  \\\\ \n",
    "   3\n",
    "\\end{bmatrix}\n",
    "\n",
    "=\n",
    " \n",
    "\\begin{bmatrix}\n",
    "   (1*2) & (2*3) \\\\\n",
    "   (3*2) & (4*3) \\\\\n",
    "   (5*2) & (6*3)\n",
    "\\end{bmatrix}\n",
    "\n",
    "=\n",
    " \n",
    "\\begin{bmatrix}\n",
    "   2 & 6 \\\\\n",
    "   6 & 12 \\\\\n",
    "   10 & 18\n",
    "\\end{bmatrix}\n",
    "\n",
    "$$"
   ]
  },
  {
   "cell_type": "code",
   "execution_count": 5,
   "metadata": {},
   "outputs": [
    {
     "name": "stdout",
     "output_type": "stream",
     "text": [
      "Multiplicación de dos vectores: \n",
      "Vector 1: [2 7 1]\n",
      "Vector 2: [8 2 8]\n",
      "v1 * v2: [16 14  8]\n"
     ]
    }
   ],
   "source": [
    "print(\"Multiplicación de dos vectores: \")\n",
    "print(f\"Vector 1: {v1}\")\n",
    "print(f\"Vector 2: {v2}\")\n",
    "print(f\"v1 * v2: {v1*v2}\")"
   ]
  },
  {
   "cell_type": "code",
   "execution_count": 6,
   "metadata": {},
   "outputs": [
    {
     "name": "stdout",
     "output_type": "stream",
     "text": [
      "Multiplicación de una matriz y un vector: \n",
      "Matriz: \n",
      " [[1 2]\n",
      " [3 4]\n",
      " [5 6]]\n",
      "\n",
      "Vector: [2 3]\n",
      "matriz * vector: \n",
      " [[ 2  6]\n",
      " [ 6 12]\n",
      " [10 18]]\n"
     ]
    }
   ],
   "source": [
    "print(\"Multiplicación de una matriz y un vector: \")\n",
    "print(f\"Matriz: \\n {matriz}\\n\")\n",
    "print(f\"Vector: {vector}\")\n",
    "print(f\"matriz * vector: \\n {matriz*vector}\")"
   ]
  },
  {
   "cell_type": "markdown",
   "metadata": {},
   "source": [
    "## Producto interno entre dos matrices"
   ]
  },
  {
   "cell_type": "markdown",
   "metadata": {},
   "source": [
    "Para que dos matrices puedan ser tener un producto interno el número de columnas de la primer matriz debe ser igual al número de filas de la segunda.\n",
    "\n",
    "$$\n",
    "\\begin{bmatrix}\n",
    "   a_{11} & a_{12} \\\\ \n",
    "   a_{21} & a_{22} \\\\ \n",
    "   a_{31} & a_{32} \\\\ \n",
    "\\end{bmatrix}\n",
    "\n",
    "\\centerdot\n",
    " \n",
    "\\begin{bmatrix}\n",
    "   b_{11} & b_{12} \\\\ \n",
    "   b_{21} & b_{22}\n",
    "\\end{bmatrix}\n",
    "\n",
    "=\n",
    " \n",
    "\\begin{bmatrix}\n",
    "   (a_{11}*b_{11}) + (a_{12} *  b_{21})   &  (a_{11}*b_{12}) + (a_{12} *  b_{22}) \\\\\n",
    "   (a_{21}*b_{11}) + (a_{22} *  b_{21})   &  (a_{21}*b_{12}) + (a_{22} *  b_{22}) \\\\\n",
    "   (a_{31}*b_{11}) + (a_{32} *  b_{21})   &  (a_{31}*b_{12}) + (a_{32} *  b_{22}) \n",
    "\\end{bmatrix}\n",
    "$$\n",
    "\n",
    "\n",
    "Ejemplo:\n",
    "$$\n",
    "\\begin{bmatrix}\n",
    "   1 & 2 & 3 \\\\ \n",
    "   4 & 5 & 6 \\\\ \n",
    "   7 & 8 & 9 \\\\ \n",
    "   10 & 11 & 12 \n",
    "\\end{bmatrix}\n",
    "\n",
    "\\centerdot\n",
    " \n",
    "\\begin{bmatrix}\n",
    "   2 & 3 \\\\ \n",
    "   5 & 7 \\\\\n",
    "   11 & 13\n",
    "\\end{bmatrix}\n",
    "\n",
    "=\n",
    " \n",
    "\\begin{bmatrix}\n",
    "   (1*2) + (2*5) + (3*11) & (1*3) + (2*7) + (3*13) \\\\\n",
    "   \n",
    "   (4*2) + (5*5) + (6*11) & (4*3) + (5*7) + (6*13) \\\\\n",
    "   (7*2) + (8*5) + (9*11) & (7*3) + (8*7) + (9*13) \\\\\n",
    "   (10*2) + (11*5) + (12*11) & (10*3) + (11*7) + (12*13) \\\\\n",
    "\\end{bmatrix}\n",
    "\n",
    "=\n",
    " \n",
    "\\begin{bmatrix}\n",
    "   2 + 10 + 33 & 3 + 14 + 39 \\\\   \n",
    "   8 + 25 + 66 & 12 + 35 + 78 \\\\\n",
    "   14 + 40 + 99 & 21 + 56 + 117\\\\\n",
    "   20 + 55 + 132 & 30 + 77 + 156\n",
    "\\end{bmatrix}\n",
    "\n",
    "=\n",
    " \n",
    "\\begin{bmatrix}\n",
    "   45 & 56 \\\\   \n",
    "   99 & 125 \\\\\n",
    "   153 & 194 \\\\\n",
    "   207 & 263\n",
    "\\end{bmatrix}\n",
    "$$"
   ]
  },
  {
   "cell_type": "code",
   "execution_count": 7,
   "metadata": {},
   "outputs": [
    {
     "name": "stdout",
     "output_type": "stream",
     "text": [
      "Matriz A: \n",
      " [[ 1  2  3]\n",
      " [ 4  5  6]\n",
      " [ 7  8  9]\n",
      " [10 11 12]]\n",
      "Matriz B: \n",
      " [[ 2  3]\n",
      " [ 5  7]\n",
      " [11 13]]\n",
      "Producto interno de A y B:\n"
     ]
    },
    {
     "data": {
      "text/plain": [
       "array([[ 45,  56],\n",
       "       [ 99, 125],\n",
       "       [153, 194],\n",
       "       [207, 263]])"
      ]
     },
     "execution_count": 7,
     "metadata": {},
     "output_type": "execute_result"
    }
   ],
   "source": [
    "matriz_A = np.array([[1,2,3],[4,5,6],[7,8,9],[10,11,12]]) \n",
    "matriz_B = np.array([[2,3], [5,7], [11,13]])\n",
    "\n",
    "print(f\"Matriz A: \\n {matriz_A}\")\n",
    "print(f\"Matriz B: \\n {matriz_B}\")\n",
    "print(\"Producto interno de A y B:\")\n",
    "np.dot(matriz_A, matriz_B)"
   ]
  },
  {
   "cell_type": "markdown",
   "metadata": {},
   "source": [
    "📌**NOTA**: No es lo mismo calcular el producto de las patrices `A` y `B`, que de `B` * `A`."
   ]
  },
  {
   "cell_type": "code",
   "execution_count": 8,
   "metadata": {},
   "outputs": [
    {
     "ename": "ValueError",
     "evalue": "shapes (3,2) and (4,3) not aligned: 2 (dim 1) != 4 (dim 0)",
     "output_type": "error",
     "traceback": [
      "\u001b[0;31m---------------------------------------------------------------------------\u001b[0m",
      "\u001b[0;31mValueError\u001b[0m                                Traceback (most recent call last)",
      "Cell \u001b[0;32mIn[8], line 1\u001b[0m\n\u001b[0;32m----> 1\u001b[0m \u001b[43mnp\u001b[49m\u001b[38;5;241;43m.\u001b[39;49m\u001b[43mdot\u001b[49m\u001b[43m(\u001b[49m\u001b[43mmatriz_B\u001b[49m\u001b[43m,\u001b[49m\u001b[43m \u001b[49m\u001b[43mmatriz_A\u001b[49m\u001b[43m)\u001b[49m\n",
      "File \u001b[0;32m<__array_function__ internals>:180\u001b[0m, in \u001b[0;36mdot\u001b[0;34m(*args, **kwargs)\u001b[0m\n",
      "\u001b[0;31mValueError\u001b[0m: shapes (3,2) and (4,3) not aligned: 2 (dim 1) != 4 (dim 0)"
     ]
    }
   ],
   "source": [
    "np.dot(matriz_B, matriz_A)"
   ]
  },
  {
   "cell_type": "markdown",
   "metadata": {},
   "source": [
    "Al intentar hacer el producto interno cambiando el orden de las matrices obtenemos un error de dimensionalida, pues las columnas de la matriz `B` no coinciden con el número filas de la matriz `A`"
   ]
  },
  {
   "cell_type": "code",
   "execution_count": 10,
   "metadata": {},
   "outputs": [
    {
     "name": "stdout",
     "output_type": "stream",
     "text": [
      "Matriz B: filas = 3, columnas = 2\n",
      "Matriz A: filas = 4, columnas = 3\n"
     ]
    }
   ],
   "source": [
    "print(f\"Matriz B: filas = {matriz_B.shape[0]}, columnas = {matriz_B.shape[1]}\")\n",
    "print(f\"Matriz A: filas = {matriz_A.shape[0]}, columnas = {matriz_A.shape[1]}\")"
   ]
  }
 ],
 "metadata": {
  "kernelspec": {
   "display_name": "cursos-ds",
   "language": "python",
   "name": "python3"
  },
  "language_info": {
   "codemirror_mode": {
    "name": "ipython",
    "version": 3
   },
   "file_extension": ".py",
   "mimetype": "text/x-python",
   "name": "python",
   "nbconvert_exporter": "python",
   "pygments_lexer": "ipython3",
   "version": "3.10.9"
  }
 },
 "nbformat": 4,
 "nbformat_minor": 2
}
