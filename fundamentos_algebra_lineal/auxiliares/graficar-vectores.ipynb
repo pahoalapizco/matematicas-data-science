{
 "cells": [
  {
   "cell_type": "code",
   "execution_count": null,
   "metadata": {},
   "outputs": [],
   "source": [
    "def plot_vectors(vecs, cols, alpha = 1):\n",
    "  plt.figure()\n",
    "  \n",
    "  plt.xlim(-1, 8)\n",
    "  plt.ylim(-1, 8)\n",
    "\n",
    "  plt.axvline(x=0, color=\"gray\")\n",
    "  plt.axhline(y=0, color=\"gray\")\n",
    "\n",
    "  for i in range(len(vecs)):\n",
    "    # [0,0] origen de donde deben salir los vectores\n",
    "    x = np.concatenate([[0,0], vecs[i]])\n",
    "    plt.quiver(\n",
    "      x[0],\n",
    "      x[1],\n",
    "      x[2],\n",
    "      x[3],\n",
    "      angles=\"xy\", scale_units=\"xy\", scale=1,\n",
    "      color=cols[i],\n",
    "      alpha=alpha\n",
    "    )"
   ]
  }
 ],
 "metadata": {
  "language_info": {
   "name": "python"
  }
 },
 "nbformat": 4,
 "nbformat_minor": 2
}
