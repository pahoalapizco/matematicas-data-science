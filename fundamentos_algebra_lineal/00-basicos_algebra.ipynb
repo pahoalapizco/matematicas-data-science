{
 "cells": [
  {
   "cell_type": "markdown",
   "metadata": {},
   "source": [
    "# Escalares, vectores, matrices y tensores"
   ]
  },
  {
   "cell_type": "markdown",
   "metadata": {},
   "source": [
    "El algebra lineal es una rama de las matemáticas que estudia los vectores, espacios vectoriales, transformaciones lineales, etc.\n",
    "\n",
    "Los escalares, vectores, matrices y tensores son algunos de los elementos básicos que conforman el algebra lineal.\n",
    "\n",
    "\n",
    "<div class=\"alert alert-info\" >\n",
    "    <p>\n",
    "        <b style=\"font-size: 1.5em;\">💡</b> \n",
    "        Vectores, matrices y tensores se diferencian entre si en los grados de libertar que tenemos para interactuar con ellos.\n",
    "    </p>\n",
    "</div>\n"
   ]
  },
  {
   "cell_type": "code",
   "execution_count": 1,
   "metadata": {},
   "outputs": [],
   "source": [
    "import numpy as np\n",
    "import matplotlib.pyplot as plt"
   ]
  },
  {
   "cell_type": "code",
   "execution_count": 2,
   "metadata": {},
   "outputs": [],
   "source": [
    "%matplotlib inline"
   ]
  },
  {
   "cell_type": "markdown",
   "metadata": {},
   "source": [
    "## Escalares"
   ]
  },
  {
   "cell_type": "markdown",
   "metadata": {},
   "source": [
    "En mátematicas es un número simple, ya sea entero o con punto flotante. <br>\n",
    "Sin embargo en python, un escalar puede ser cualquier valor.\n",
    "- int\n",
    "- float\n",
    "- boolean\n",
    "- string\n",
    "- ..."
   ]
  },
  {
   "cell_type": "code",
   "execution_count": 3,
   "metadata": {},
   "outputs": [
    {
     "name": "stdout",
     "output_type": "stream",
     "text": [
      "21.16\n"
     ]
    }
   ],
   "source": [
    "# Escalar en matemáticas:\n",
    "escalar = 21.16\n",
    "print(escalar)"
   ]
  },
  {
   "cell_type": "code",
   "execution_count": 4,
   "metadata": {},
   "outputs": [
    {
     "name": "stdout",
     "output_type": "stream",
     "text": [
      "55, type: <class 'int'>\n",
      "\n",
      "55.55\n",
      "<class 'float'>\n",
      "\n",
      "hello world\n",
      "<class 'str'>\n"
     ]
    }
   ],
   "source": [
    "# Escalar en python\n",
    "escalar_python = 55\n",
    "print(f'{escalar_python}, type: {type(escalar_python)}')\n",
    "print()\n",
    "\n",
    "escalar_python = 55.55\n",
    "print(escalar_python)\n",
    "print(type(escalar_python))\n",
    "print()\n",
    "\n",
    "escalar_python = \"hello world\"\n",
    "print(escalar_python)\n",
    "print(type(escalar_python))"
   ]
  },
  {
   "cell_type": "markdown",
   "metadata": {},
   "source": [
    "## Vectores"
   ]
  },
  {
   "cell_type": "markdown",
   "metadata": {},
   "source": [
    "Conjunto de números escalares, con un grado de libertad (una dimensión). <br>\n",
    "Nos podemos mover en una sola dirección."
   ]
  },
  {
   "cell_type": "code",
   "execution_count": 5,
   "metadata": {},
   "outputs": [
    {
     "name": "stdout",
     "output_type": "stream",
     "text": [
      "[1 2 3]\n",
      "[4 5 6 7 8]\n"
     ]
    }
   ],
   "source": [
    "# Vector de 3 elementos.\n",
    "vector = np.array([1,2,3])\n",
    "print(vector)\n",
    "\n",
    "# Vector de 5 elementos\n",
    "array_2 = np.array([4,5,6,7,8])\n",
    "print(array_2)"
   ]
  },
  {
   "cell_type": "markdown",
   "metadata": {},
   "source": [
    "## Matrices"
   ]
  },
  {
   "cell_type": "markdown",
   "metadata": {},
   "source": [
    "Conjunto de números ó bien vectores apilados, con dos grados de libertad (dos dimensiones), nos podemos movernos en dos direcciones. <br>\n",
    "💡 Podemos imaginarlo como una tabla, con filas y columnas."
   ]
  },
  {
   "cell_type": "code",
   "execution_count": 6,
   "metadata": {},
   "outputs": [
    {
     "name": "stdout",
     "output_type": "stream",
     "text": [
      "[[1 2 3]\n",
      " [4 5 6]\n",
      " [7 8 9]]\n"
     ]
    }
   ],
   "source": [
    "# Matríz de 3x3\n",
    "matriz = np.array([\n",
    "  [1,2,3],\n",
    "  [4,5,6],\n",
    "  [7,8,9]\n",
    "])\n",
    "print(matriz)"
   ]
  },
  {
   "cell_type": "markdown",
   "metadata": {},
   "source": [
    "## Tensores"
   ]
  },
  {
   "cell_type": "markdown",
   "metadata": {},
   "source": [
    "Tiene uno o más grados de libertad que una matriz. Se puede ver como multiples matrices. <br>\n",
    "Nos podemos mover entre filas, columnas y matrices.\n",
    "<br>\n",
    "💡 Podemos imaginarlo como un vector multidimensional."
   ]
  },
  {
   "cell_type": "code",
   "execution_count": 7,
   "metadata": {},
   "outputs": [
    {
     "name": "stdout",
     "output_type": "stream",
     "text": [
      "[[[ 1  2  3]\n",
      "  [ 4  5  6]\n",
      "  [ 7  8  9]]\n",
      "\n",
      " [[10 11 12]\n",
      "  [13 14 15]\n",
      "  [16 17 18]]\n",
      "\n",
      " [[19 20 21]\n",
      "  [21 23 24]\n",
      "  [25 26 27]]]\n"
     ]
    }
   ],
   "source": [
    "# Tensor de 3 dimensiones\n",
    "tensor = np.array([\n",
    "  [[1,2,3] , [4,5,6], [7,8,9]],\n",
    "  [[10,11,12] , [13,14,15], [16,17,18]],\n",
    "  [[19,20,21] , [21,23,24], [25,26,27]]\n",
    "])\n",
    "print(tensor)"
   ]
  },
  {
   "cell_type": "markdown",
   "metadata": {},
   "source": [
    "Los tensores en machine learning los podemos encontrar de diversas formas:\n",
    "- Imagenes: Se representan con tensores de 3 dimensiones (altura, anchura y canales de color)\n",
    "- Vide: Se representa con tensores de 4 dimensiones (número de frames, altura, anchura y canales de color)\n",
    "- Documentos de texto: Utilizados en NLP (Natural Language Processing), las dimensiones del tensor representan (número de documentos, número de palabras, características de palabras).\n",
    "- etc.."
   ]
  },
  {
   "cell_type": "code",
   "execution_count": 8,
   "metadata": {},
   "outputs": [
    {
     "data": {
      "image/png": "[encoded data removed]",
      "text/plain": [
       "<Figure size 640x480 with 1 Axes>"
      ]
     },
     "metadata": {},
     "output_type": "display_data"
    }
   ],
   "source": [
    "plt.imshow(tensor, interpolation='nearest')\n",
    "plt.show()"
   ]
  },
  {
   "cell_type": "code",
   "execution_count": 9,
   "metadata": {},
   "outputs": [
    {
     "data": {
      "image/png": "[encoded data removed]",
      "text/plain": [
       "<Figure size 640x480 with 1 Axes>"
      ]
     },
     "metadata": {},
     "output_type": "display_data"
    }
   ],
   "source": [
    "tensor_2 = np.array([\n",
    "  [[0,0,0] , [0,0,0], [0,0,0]],\n",
    "  [[128,128,128] , [128,128,128], [128,128,128]],\n",
    "  [[255,255,255] , [255,255,255], [255,255,255]]\n",
    "])\n",
    "\n",
    "plt.imshow(tensor_2, interpolation='nearest')\n",
    "plt.show()"
   ]
  },
  {
   "cell_type": "code",
   "execution_count": 10,
   "metadata": {},
   "outputs": [
    {
     "data": {
      "image/png": "[encoded data removed]",
      "text/plain": [
       "<Figure size 640x480 with 1 Axes>"
      ]
     },
     "metadata": {},
     "output_type": "display_data"
    }
   ],
   "source": [
    "tensor_2 = np.array([\n",
    "  [[0,0,0], [128,128,128], [255,255,255]],\n",
    "  [[0,0,0], [128,128,128], [255,255,255]],\n",
    "  [[0,0,0], [128,128,128], [255,255,255]]\n",
    "])\n",
    "\n",
    "plt.imshow(tensor_2, interpolation='nearest')\n",
    "plt.show()"
   ]
  }
 ],
 "metadata": {
  "kernelspec": {
   "display_name": "cursos-ds",
   "language": "python",
   "name": "python3"
  },
  "language_info": {
   "codemirror_mode": {
    "name": "ipython",
    "version": 3
   },
   "file_extension": ".py",
   "mimetype": "text/x-python",
   "name": "python",
   "nbconvert_exporter": "python",
   "pygments_lexer": "ipython3",
   "version": "3.10.9"
  }
 },
 "nbformat": 4,
 "nbformat_minor": 2
}
