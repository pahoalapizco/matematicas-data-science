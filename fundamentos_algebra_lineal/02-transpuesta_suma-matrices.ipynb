{
 "cells": [
  {
   "cell_type": "markdown",
   "metadata": {},
   "source": [
    "# Transposición, suma de matrices y escalares"
   ]
  },
  {
   "cell_type": "markdown",
   "metadata": {},
   "source": [
    "- **Transponer de una matriz**: Cambiar las filas por columnas y las columnas por filas, manteniendo los elementos de la diagonal en el mismo lugar.\n",
    "- **Transponer un vector**: Al transponer un vector fila obtenemos un vector columna."
   ]
  },
  {
   "cell_type": "markdown",
   "metadata": {},
   "source": [
    "Liberías"
   ]
  },
  {
   "cell_type": "code",
   "execution_count": 1,
   "metadata": {},
   "outputs": [],
   "source": [
    "import numpy as np"
   ]
  },
  {
   "cell_type": "markdown",
   "metadata": {},
   "source": [
    "## Transosición"
   ]
  },
  {
   "cell_type": "markdown",
   "metadata": {},
   "source": [
    "### Transpuesda de un vector"
   ]
  },
  {
   "cell_type": "code",
   "execution_count": 2,
   "metadata": {},
   "outputs": [
    {
     "name": "stdout",
     "output_type": "stream",
     "text": [
      "Vector: [1 2 3 4] \n",
      "Transpuesto: [1 2 3 4]\n"
     ]
    }
   ],
   "source": [
    "vector = np.array([1,2,3,4])\n",
    "print(f\"Vector: {vector} \")\n",
    "print(f\"Transpuesto: {vector.T}\")"
   ]
  },
  {
   "cell_type": "markdown",
   "metadata": {},
   "source": [
    "Con la herramienta (python) no podemos ver como el vector se transpudo a un vectro columna, pero se vería así:\n",
    "\n",
    "$$\n",
    "{\\begin{bmatrix}\n",
    "   a_{11} & a_{12} \n",
    "\\end{bmatrix}}^t\n",
    "\n",
    "=\n",
    " \n",
    "\\begin{bmatrix}\n",
    "   a_{11}  \\\\\n",
    "   a_{21} \n",
    "\\end{bmatrix}\n",
    " \n",
    "\n",
    "$$"
   ]
  },
  {
   "cell_type": "markdown",
   "metadata": {},
   "source": [
    "### Transpuesta de una matriz"
   ]
  },
  {
   "cell_type": "code",
   "execution_count": 3,
   "metadata": {},
   "outputs": [
    {
     "name": "stdout",
     "output_type": "stream",
     "text": [
      "Matriz: \n",
      " [[1 2]\n",
      " [3 4]\n",
      " [5 6]] \n",
      " shape: (3, 2) \n",
      "\n",
      "Transpuesta: \n",
      " [[1 3 5]\n",
      " [2 4 6]] \n",
      " shape: (2, 3)\n"
     ]
    }
   ],
   "source": [
    "matriz = np.array([[1,2], [3,4], [5,6]])\n",
    "matriz_t = matriz.T\n",
    "\n",
    "print(f\"Matriz: \\n {matriz} \\n shape: {matriz.shape} \\n\")\n",
    "print(f\"Transpuesta: \\n {matriz_t} \\n shape: {matriz_t.shape}\")"
   ]
  },
  {
   "cell_type": "markdown",
   "metadata": {},
   "source": [
    "### Transpuesta de un tensor"
   ]
  },
  {
   "cell_type": "code",
   "execution_count": 4,
   "metadata": {},
   "outputs": [
    {
     "name": "stdout",
     "output_type": "stream",
     "text": [
      "Tensor: \n",
      " [[[ 1  2]\n",
      "  [ 3  4]\n",
      "  [ 5  6]]\n",
      "\n",
      " [[ 7  8]\n",
      "  [ 9 10]\n",
      "  [11 12]]\n",
      "\n",
      " [[13 14]\n",
      "  [15 16]\n",
      "  [17 18]]\n",
      "\n",
      " [[19 20]\n",
      "  [21 22]\n",
      "  [23 24]]]\n",
      "shape: (4, 3, 2)\n"
     ]
    }
   ],
   "source": [
    "tensor = np.array([\n",
    "  [[1,2], [3,4], [5,6]],\n",
    "  [[7,8], [9,10], [11,12]],\n",
    "  [[13,14], [15,16], [17,18]],\n",
    "  [[19,20], [21,22], [23,24]],\n",
    "])\n",
    "\n",
    "print(f\"Tensor: \\n {tensor}\")\n",
    "print(f\"shape: {tensor.shape}\")"
   ]
  },
  {
   "cell_type": "code",
   "execution_count": 5,
   "metadata": {},
   "outputs": [
    {
     "name": "stdout",
     "output_type": "stream",
     "text": [
      "Transpuesta: \n",
      " [[[ 1  7 13 19]\n",
      "  [ 3  9 15 21]\n",
      "  [ 5 11 17 23]]\n",
      "\n",
      " [[ 2  8 14 20]\n",
      "  [ 4 10 16 22]\n",
      "  [ 6 12 18 24]]]\n",
      "shape: (2, 3, 4)\n"
     ]
    }
   ],
   "source": [
    "tensor_T = tensor.T\n",
    "print(f\"Transpuesta: \\n {tensor_T}\")\n",
    "print(f\"shape: {tensor_T.shape}\")"
   ]
  },
  {
   "cell_type": "markdown",
   "metadata": {},
   "source": [
    "## Suma de matrices"
   ]
  },
  {
   "cell_type": "markdown",
   "metadata": {},
   "source": [
    "La suma entre matrices puede realizarse siempre y cuando éstas tengan la misma forma (mismo numero de filas y columnas)"
   ]
  },
  {
   "cell_type": "code",
   "execution_count": 6,
   "metadata": {},
   "outputs": [
    {
     "ename": "ValueError",
     "evalue": "operands could not be broadcast together with shapes (3,2) (2,3) ",
     "output_type": "error",
     "traceback": [
      "\u001b[0;31m---------------------------------------------------------------------------\u001b[0m",
      "\u001b[0;31mValueError\u001b[0m                                Traceback (most recent call last)",
      "Cell \u001b[0;32mIn[6], line 1\u001b[0m\n\u001b[0;32m----> 1\u001b[0m suma \u001b[38;5;241m=\u001b[39m \u001b[43mmatriz\u001b[49m\u001b[43m \u001b[49m\u001b[38;5;241;43m+\u001b[39;49m\u001b[43m \u001b[49m\u001b[43mmatriz_t\u001b[49m\n",
      "\u001b[0;31mValueError\u001b[0m: operands could not be broadcast together with shapes (3,2) (2,3) "
     ]
    }
   ],
   "source": [
    "suma = matriz + matriz_t"
   ]
  },
  {
   "cell_type": "markdown",
   "metadata": {},
   "source": [
    "Al sumnar la matriz transpuesta con la matriz original obtenemos un error, pues la transpuesta invirtio el número de filas y columnas."
   ]
  },
  {
   "cell_type": "code",
   "execution_count": 7,
   "metadata": {},
   "outputs": [
    {
     "name": "stdout",
     "output_type": "stream",
     "text": [
      "Matriz: \n",
      " [[1 2]\n",
      " [3 4]] \n",
      " shape: (2, 2)\n",
      "Transpuesta: \n",
      " [[1 3]\n",
      " [2 4]] \n",
      " shape: (2, 2)\n"
     ]
    }
   ],
   "source": [
    "matriz_cuadrada = np.array([[1,2], [3,4]])\n",
    "matriz_cuadrada_t = matriz_cuadrada.T\n",
    "\n",
    "print(f\"Matriz: \\n {matriz_cuadrada} \\n shape: {matriz_cuadrada.shape}\")\n",
    "print(f\"Transpuesta: \\n {matriz_cuadrada_t} \\n shape: {matriz_cuadrada_t.shape}\")"
   ]
  },
  {
   "cell_type": "code",
   "execution_count": 8,
   "metadata": {},
   "outputs": [
    {
     "data": {
      "text/plain": [
       "array([[2, 5],\n",
       "       [5, 8]])"
      ]
     },
     "execution_count": 8,
     "metadata": {},
     "output_type": "execute_result"
    }
   ],
   "source": [
    "suma = matriz_cuadrada + matriz_cuadrada_t\n",
    "suma"
   ]
  },
  {
   "cell_type": "markdown",
   "metadata": {},
   "source": [
    "Al sumar dos matrices, lo que hacemos es sumar cada elemento con su respectiva posición\n",
    "$$\n",
    "\\begin{bmatrix}\n",
    "   a_{11} & a_{12} \\\\\n",
    "   a_{21} & a_{22}\n",
    "\\end{bmatrix}\n",
    " \n",
    " + \n",
    "\n",
    " \\begin{bmatrix}\n",
    "   b_{11} & b_{12} \\\\\n",
    "   b_{21} & b_{22}\n",
    "\\end{bmatrix}\n",
    "\n",
    "=\n",
    "\n",
    " \\begin{bmatrix}\n",
    "   a_{11}+b_{11} & a_{12}+b_{12} \\\\\n",
    "   a_{21}+b_{21} & a_{22}+b_{22}\n",
    "\\end{bmatrix}\n",
    "$$\n",
    "\n",
    "<p align=\"center\"> El ejemplo anterior seria: </p>\n",
    "\n",
    "$$\n",
    "\\begin{bmatrix}\n",
    "   1 & 2 \\\\\n",
    "   3 & 4\n",
    "\\end{bmatrix}\n",
    " \n",
    " + \n",
    "\n",
    " \\begin{bmatrix}\n",
    "   1 & 3 \\\\\n",
    "   2 & 4\n",
    "\\end{bmatrix}\n",
    "\n",
    "=\n",
    "\n",
    " \\begin{bmatrix}\n",
    "   1+1 & 2+3 \\\\\n",
    "   3+2 & 4+4\n",
    "\\end{bmatrix}\n",
    "$$"
   ]
  },
  {
   "cell_type": "markdown",
   "metadata": {},
   "source": [
    "📌 Una matriz es cuadrada cuando tiene el mismo número de filas y columnas."
   ]
  },
  {
   "cell_type": "markdown",
   "metadata": {},
   "source": [
    "### Suma de una matriz y un escalar"
   ]
  },
  {
   "cell_type": "code",
   "execution_count": 9,
   "metadata": {},
   "outputs": [
    {
     "name": "stdout",
     "output_type": "stream",
     "text": [
      "[[ 6.55  7.55  8.55  9.55]\n",
      " [10.55 11.55 12.55 13.55]]\n"
     ]
    }
   ],
   "source": [
    "escalar = np.array(5.55)\n",
    "matriz = np.array([[1,2,3,4], [5,6,7,8]])\n",
    "\n",
    "suma_m_e = matriz + escalar\n",
    "print(suma_m_e)"
   ]
  },
  {
   "cell_type": "markdown",
   "metadata": {},
   "source": [
    "El valor escalar se suma a cada elemento de la matriz.\n",
    "\n",
    "$$\n",
    "\\begin{bmatrix}\n",
    "   a_{11} & a_{12} \\\\\n",
    "   a_{21} & a_{22}\n",
    "\\end{bmatrix}\n",
    " \n",
    " + \n",
    "\n",
    " b\n",
    "\n",
    "=\n",
    "\n",
    " \\begin{bmatrix}\n",
    "   a_{11}+b & a_{12}+b \\\\\n",
    "   a_{21}+b & a_{22}+b\n",
    "\\end{bmatrix}\n",
    "$$"
   ]
  }
 ],
 "metadata": {
  "kernelspec": {
   "display_name": "cursos-ds",
   "language": "python",
   "name": "python3"
  },
  "language_info": {
   "codemirror_mode": {
    "name": "ipython",
    "version": 3
   },
   "file_extension": ".py",
   "mimetype": "text/x-python",
   "name": "python",
   "nbconvert_exporter": "python",
   "pygments_lexer": "ipython3",
   "version": "3.10.9"
  }
 },
 "nbformat": 4,
 "nbformat_minor": 2
}
