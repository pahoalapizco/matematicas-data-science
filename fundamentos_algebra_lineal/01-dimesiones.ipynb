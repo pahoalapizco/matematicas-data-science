{
 "cells": [
  {
   "cell_type": "markdown",
   "metadata": {},
   "source": [
    "# Dimensiones"
   ]
  },
  {
   "cell_type": "markdown",
   "metadata": {},
   "source": [
    "Las dimensiones de los elementos escalar, vector, matriz, y tensor, nos dicen la dirección o direcciones a las que nos podemos mover en esos elementos.\n",
    "\n",
    "Los arrays de `numpy` tienen una propiedad llamada `ndim` que nos dice cual es la dimensión de un elemento array, por otro lado, también esta la propiedad `shape` que nos dice la forma que tiene un array."
   ]
  },
  {
   "cell_type": "code",
   "execution_count": 1,
   "metadata": {},
   "outputs": [],
   "source": [
    "import numpy as np"
   ]
  },
  {
   "cell_type": "markdown",
   "metadata": {},
   "source": [
    "Creamos los elementos:"
   ]
  },
  {
   "cell_type": "code",
   "execution_count": 25,
   "metadata": {},
   "outputs": [],
   "source": [
    "escalar = 5.26\n",
    "vector = np.array([1,2,3])\n",
    "matriz = np.array([[1,2], [3,4], [5,6]])\n",
    "tensor = np.array([\n",
    "  [[1,2], [3,4], [5,6]],\n",
    "  [[7,8], [9,10], [11,12]],\n",
    "  [[13,14], [15,16], [17,18]],\n",
    "  [[19,20], [21,22], [23,24]],\n",
    "])"
   ]
  },
  {
   "cell_type": "markdown",
   "metadata": {},
   "source": [
    "## Dimensión de un `escalar`"
   ]
  },
  {
   "cell_type": "code",
   "execution_count": 18,
   "metadata": {},
   "outputs": [
    {
     "ename": "AttributeError",
     "evalue": "'float' object has no attribute 'ndim'",
     "output_type": "error",
     "traceback": [
      "\u001b[0;31m---------------------------------------------------------------------------\u001b[0m",
      "\u001b[0;31mAttributeError\u001b[0m                            Traceback (most recent call last)",
      "Cell \u001b[0;32mIn[18], line 1\u001b[0m\n\u001b[0;32m----> 1\u001b[0m \u001b[43mescalar\u001b[49m\u001b[38;5;241;43m.\u001b[39;49m\u001b[43mndim\u001b[49m\n",
      "\u001b[0;31mAttributeError\u001b[0m: 'float' object has no attribute 'ndim'"
     ]
    }
   ],
   "source": [
    "escalar.ndim"
   ]
  },
  {
   "cell_type": "code",
   "execution_count": 17,
   "metadata": {},
   "outputs": [
    {
     "ename": "AttributeError",
     "evalue": "'float' object has no attribute 'shape'",
     "output_type": "error",
     "traceback": [
      "\u001b[0;31m---------------------------------------------------------------------------\u001b[0m",
      "\u001b[0;31mAttributeError\u001b[0m                            Traceback (most recent call last)",
      "Cell \u001b[0;32mIn[17], line 1\u001b[0m\n\u001b[0;32m----> 1\u001b[0m \u001b[43mescalar\u001b[49m\u001b[38;5;241;43m.\u001b[39;49m\u001b[43mshape\u001b[49m\n",
      "\u001b[0;31mAttributeError\u001b[0m: 'float' object has no attribute 'shape'"
     ]
    }
   ],
   "source": [
    "escalar.shape"
   ]
  },
  {
   "cell_type": "markdown",
   "metadata": {},
   "source": [
    "Un escalar al ser un valor por si solo, no cuenta con dimensiones.\n",
    "\n",
    "\n",
    "\n",
    "\n",
    "<div class=\"alert alert-warning\" >\n",
    "    <p>\n",
    "        <b style=\"font-size: 1.5em;\">⚠️</b> \n",
    "        Un punto importante a resaltar es que la variable escalar al no ser un array de <b>numpy</b> no es posible acceder a las propiedades <code>ndim</code> y <code>shpe</code>.\n",
    "    </p>\n",
    "</div>"
   ]
  },
  {
   "cell_type": "markdown",
   "metadata": {},
   "source": [
    "## Dimensión de un `vector`"
   ]
  },
  {
   "cell_type": "code",
   "execution_count": 21,
   "metadata": {},
   "outputs": [
    {
     "name": "stdout",
     "output_type": "stream",
     "text": [
      "Dimensión: 1\n",
      "Forma: (3,)\n",
      "[1 2 3]\n"
     ]
    }
   ],
   "source": [
    "print(f\"Dimensión: {vector.ndim}\")\n",
    "print(f\"Forma: {vector.shape}\")\n",
    "print(vector)"
   ]
  },
  {
   "cell_type": "markdown",
   "metadata": {},
   "source": [
    "`ndim` nos dice que el vector es de una dimensión.\n",
    "\n",
    "La tupla que nos regresa la propiedad `shape` nos da en su primer posición el número de elementos que tiene el vector, o bien las posiciones en el mismo."
   ]
  },
  {
   "cell_type": "markdown",
   "metadata": {},
   "source": [
    "## Dimensión de una `matriz`"
   ]
  },
  {
   "cell_type": "code",
   "execution_count": 26,
   "metadata": {},
   "outputs": [
    {
     "name": "stdout",
     "output_type": "stream",
     "text": [
      "Dimensión: 2\n",
      "Forma: (3, 2)\n",
      "[[1 2]\n",
      " [3 4]\n",
      " [5 6]]\n"
     ]
    }
   ],
   "source": [
    "print(f\"Dimensión: {matriz.ndim}\")\n",
    "print(f\"Forma: {matriz.shape}\")\n",
    "print(matriz)\n"
   ]
  },
  {
   "cell_type": "markdown",
   "metadata": {},
   "source": [
    "`ndim` nos dice que la matriz es de dos dimensiones.\n",
    "\n",
    "Mientras que `shape` nos da la forma de la matriz, la cual podemos interpretar de la siguiente manera:\n",
    "- `(numero_filas, numero_columnas)`: La matriz cuenta con 3 filas y 2 columnas."
   ]
  },
  {
   "cell_type": "markdown",
   "metadata": {},
   "source": [
    "## Dimensión de un `tensor`"
   ]
  },
  {
   "cell_type": "code",
   "execution_count": 27,
   "metadata": {},
   "outputs": [
    {
     "name": "stdout",
     "output_type": "stream",
     "text": [
      "Dimensión: 3\n",
      "Forma: (4, 3, 2)\n",
      "[[[ 1  2]\n",
      "  [ 3  4]\n",
      "  [ 5  6]]\n",
      "\n",
      " [[ 7  8]\n",
      "  [ 9 10]\n",
      "  [11 12]]\n",
      "\n",
      " [[13 14]\n",
      "  [15 16]\n",
      "  [17 18]]\n",
      "\n",
      " [[19 20]\n",
      "  [21 22]\n",
      "  [23 24]]]\n"
     ]
    }
   ],
   "source": [
    "print(f\"Dimensión: {tensor.ndim}\")\n",
    "print(f\"Forma: {tensor.shape}\")\n",
    "print(tensor)"
   ]
  },
  {
   "cell_type": "markdown",
   "metadata": {},
   "source": [
    "`ndim` nos dice que el tensor cuenta con 3 dimensiones.\n",
    "\n",
    "`shape` nos da la forma del tensor con una tupla de 3 elementos, su interpretación:\n",
    "- `(numero_matrices, numero_fila, numero_columnas)`: El tensor esta conformado por 3 matries con 3 filas y 2 columnas (cada matriz)."
   ]
  },
  {
   "cell_type": "markdown",
   "metadata": {},
   "source": [
    "<div class=\"alert alert-info\" >\n",
    "    <p>\n",
    "        <b style=\"font-size: 1.5em;\">💡</b> \n",
    "        Tanto las matrices como los tensores son un \"vector de vectores\", cada dimensión es el nivel de anidamiento en los vectores.\n",
    "    </p>\n",
    "</div>"
   ]
  }
 ],
 "metadata": {
  "kernelspec": {
   "display_name": "cursos-ds",
   "language": "python",
   "name": "python3"
  },
  "language_info": {
   "codemirror_mode": {
    "name": "ipython",
    "version": 3
   },
   "file_extension": ".py",
   "mimetype": "text/x-python",
   "name": "python",
   "nbconvert_exporter": "python",
   "pygments_lexer": "ipython3",
   "version": "3.10.9"
  }
 },
 "nbformat": 4,
 "nbformat_minor": 2
}
