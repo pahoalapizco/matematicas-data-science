{
 "cells": [
  {
   "cell_type": "markdown",
   "metadata": {},
   "source": [
    "# Propiedades de las matrices"
   ]
  },
  {
   "cell_type": "markdown",
   "metadata": {},
   "source": [
    "Unas de las propiedades del producto interno entre matrices es que, son _asociativa_, _distributiva_ y _NO conmutativa_."
   ]
  },
  {
   "cell_type": "code",
   "execution_count": 1,
   "metadata": {},
   "outputs": [],
   "source": [
    "import numpy as np"
   ]
  },
  {
   "cell_type": "code",
   "execution_count": 2,
   "metadata": {},
   "outputs": [],
   "source": [
    "# Definimos las matrices de ejemplo\n",
    "A = np.array([[2,3],[5,7],[11,13]])\n",
    "B = np.array([[1,3],[2,1]])\n",
    "C = np.array([[3,1],[4,2]])"
   ]
  },
  {
   "cell_type": "markdown",
   "metadata": {},
   "source": [
    "## Asociativa"
   ]
  },
  {
   "cell_type": "markdown",
   "metadata": {},
   "source": [
    "El agrupamiento de las matrices durante la multiplicación (producto interno) no afecta el resultado.\n",
    "$$\n",
    "A * (B*C) = (A*B)*C\n",
    "$$"
   ]
  },
  {
   "cell_type": "code",
   "execution_count": 3,
   "metadata": {},
   "outputs": [
    {
     "name": "stdout",
     "output_type": "stream",
     "text": [
      "[[ True  True]\n",
      " [ True  True]\n",
      " [ True  True]]\n"
     ]
    }
   ],
   "source": [
    "A_BC = A.dot(B.dot(C))\n",
    "AB_C = A.dot(B).dot(C)\n",
    "\n",
    "print(A_BC == AB_C)"
   ]
  },
  {
   "cell_type": "code",
   "execution_count": 4,
   "metadata": {},
   "outputs": [
    {
     "name": "stdout",
     "output_type": "stream",
     "text": [
      "A_BC: \n",
      " [[ 60  26]\n",
      " [145  63]\n",
      " [295 129]]\n",
      "AB_C: \n",
      " [[ 60  26]\n",
      " [145  63]\n",
      " [295 129]]\n"
     ]
    }
   ],
   "source": [
    "print(f\"A_BC: \\n {A_BC}\")\n",
    "print(f\"AB_C: \\n {AB_C}\")"
   ]
  },
  {
   "cell_type": "markdown",
   "metadata": {},
   "source": [
    "## Distributiva"
   ]
  },
  {
   "cell_type": "markdown",
   "metadata": {},
   "source": [
    "La multiplicación de una matriz por la suma de dos matrices, es lo mismo que la suma de la multiplicación de la primer matriz por cada una de las matrices individualmente.\n",
    "\n",
    "$$\n",
    "A*(B+C) = (A*B) +(A*C)\n",
    "$$"
   ]
  },
  {
   "cell_type": "code",
   "execution_count": 5,
   "metadata": {},
   "outputs": [
    {
     "name": "stdout",
     "output_type": "stream",
     "text": [
      "[[ True  True]\n",
      " [ True  True]\n",
      " [ True  True]]\n"
     ]
    }
   ],
   "source": [
    "A__B_C = A.dot(B+C)\n",
    "AB_AC = A.dot(B) + A.dot(C)\n",
    "\n",
    "print(A__B_C == AB_AC)"
   ]
  },
  {
   "cell_type": "code",
   "execution_count": 6,
   "metadata": {},
   "outputs": [
    {
     "name": "stdout",
     "output_type": "stream",
     "text": [
      "A__B_C: \n",
      " [[ 26  17]\n",
      " [ 62  41]\n",
      " [122  83]]\n",
      "A__B_C: \n",
      " [[ 26  17]\n",
      " [ 62  41]\n",
      " [122  83]]\n"
     ]
    }
   ],
   "source": [
    "print(f\"A__B_C: \\n {A__B_C}\")\n",
    "print(f\"A__B_C: \\n {A__B_C}\")"
   ]
  },
  {
   "cell_type": "markdown",
   "metadata": {},
   "source": [
    "## Conmutativa"
   ]
  },
  {
   "cell_type": "markdown",
   "metadata": {},
   "source": [
    "El producto interno de dos matrices NO es conmitativo, no es lo mismo multiplicar la primer matriz por la segunda que multiplicar la segunda matriz por la primera.\n",
    "\n",
    "$$\n",
    "A*B {\\not =} B*A\n",
    "$$"
   ]
  },
  {
   "cell_type": "code",
   "execution_count": 7,
   "metadata": {},
   "outputs": [
    {
     "name": "stdout",
     "output_type": "stream",
     "text": [
      "[[False False]\n",
      " [False False]]\n"
     ]
    }
   ],
   "source": [
    "BC = B.dot(C)\n",
    "CB = C.dot(B)\n",
    "\n",
    "print(BC == CB)"
   ]
  },
  {
   "cell_type": "code",
   "execution_count": 8,
   "metadata": {},
   "outputs": [
    {
     "name": "stdout",
     "output_type": "stream",
     "text": [
      "BC: \n",
      " [[15  7]\n",
      " [10  4]]\n",
      "CB: \n",
      " [[ 5 10]\n",
      " [ 8 14]]\n"
     ]
    }
   ],
   "source": [
    "print(f\"BC: \\n {BC}\")\n",
    "print(f\"CB: \\n {CB}\")"
   ]
  },
  {
   "cell_type": "markdown",
   "metadata": {},
   "source": [
    "## Transposición"
   ]
  },
  {
   "cell_type": "markdown",
   "metadata": {},
   "source": [
    "Otra propiedad del producto interno entre dos matrices es la transposición, dice:\n",
    "- La transpueda del producto interno de dos matrices es lo mismo que el producto interno de las matrices transpuestas indiviDualmente\n",
    "\n",
    "$$\n",
    "(A*B)^t = A^t*B^t\n",
    "$$\n",
    "\n",
    "Esta propiedad nos permite:\n",
    "- Operar las matrices como si fueran números, esto ayuda resolver un sistema lineal de ecuaciones sin requerir despejes complejos.\n",
    "- Pasarlas de un lado a otro.\n",
    "- Decidir el orden las operaciones."
   ]
  },
  {
   "cell_type": "code",
   "execution_count": 10,
   "metadata": {},
   "outputs": [],
   "source": [
    "A = np.array([[1,2,3],[7,8,9],[4,5,6]])\n",
    "B = np.array([[10,11],[12,13],[14,15]])"
   ]
  },
  {
   "cell_type": "code",
   "execution_count": 11,
   "metadata": {},
   "outputs": [
    {
     "name": "stdout",
     "output_type": "stream",
     "text": [
      "[[ True  True  True]\n",
      " [ True  True  True]]\n"
     ]
    }
   ],
   "source": [
    "AB_t = A.dot(B).T\n",
    "B_tA_t = B.T.dot(A.T)\n",
    "\n",
    "print(AB_t == B_tA_t)"
   ]
  },
  {
   "cell_type": "code",
   "execution_count": 12,
   "metadata": {},
   "outputs": [
    {
     "name": "stdout",
     "output_type": "stream",
     "text": [
      "AB_t: \n",
      " [[ 76 292 184]\n",
      " [ 82 316 199]]\n",
      "B_tA_t: \n",
      " [[ 76 292 184]\n",
      " [ 82 316 199]]\n"
     ]
    }
   ],
   "source": [
    "print(f\"AB_t: \\n {AB_t}\")\n",
    "print(f\"B_tA_t: \\n {B_tA_t}\")"
   ]
  }
 ],
 "metadata": {
  "kernelspec": {
   "display_name": "cursos-ds",
   "language": "python",
   "name": "python3"
  },
  "language_info": {
   "codemirror_mode": {
    "name": "ipython",
    "version": 3
   },
   "file_extension": ".py",
   "mimetype": "text/x-python",
   "name": "python",
   "nbconvert_exporter": "python",
   "pygments_lexer": "ipython3",
   "version": "3.10.9"
  }
 },
 "nbformat": 4,
 "nbformat_minor": 2
}
