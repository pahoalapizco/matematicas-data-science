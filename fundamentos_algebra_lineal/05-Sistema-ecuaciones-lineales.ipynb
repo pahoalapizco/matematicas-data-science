{
 "cells": [
  {
   "cell_type": "markdown",
   "metadata": {},
   "source": [
    "# Sistema de ecuaciones lineales"
   ]
  },
  {
   "cell_type": "markdown",
   "metadata": {},
   "source": [
    "Tenemos sistema de ecuaciones lineales cuanto:\n",
    "- Contamos con un conjunto de dos o más ecuaciones.\n",
    "- Las variables involucradas no estan multiplicadas entre si.\n",
    "- Cada termino de las ecuaciones es de primer grado (no estan elevadas a ninguna poncia)\n",
    "\n",
    "💡El último punto es por el cuál se llama sistema de ecuaciones _lineales_\n",
    "\n",
    "**Ejemplo**:\n",
    "\n",
    "\n",
    "$$\n",
    "\\begin{cases}\n",
    "   y=3x+5 \\\\\n",
    " y=2x+3\n",
    "\\end{cases}\n",
    "$$\n",
    "\n",
    "Para resolver el un sistema de ecuaciones lineales con dos ecuaciones y dos variables (para este ejemplo), debemos seguir los pasos siguientes:\n",
    "\n",
    "1. Seleccionar una de las dos ecuaciones.\n",
    "2. Sustituir la ecuación en la otra ecuación.\n",
    "3. Despejar la variable $x$.\n",
    "4. Sustituir el valor de la variable $x$ en cualquiera de las dos ecuaciones\n",
    "\n",
    "**Resolviendo el ejemplo**:\n",
    "$$\n",
    "\\begin{array}{cc}\n",
    "   2x+3=3x+5 \\\\\n",
    "   2x-3x=5-3 \\\\\n",
    "   -x = 2 \\\\\n",
    "   x=-2\n",
    "\\end{array}\n",
    "\n",
    "\\begin{array}{cc}\n",
    "   y=3(-2)+5 \\\\\n",
    "  y=-6+5 \\\\ \n",
    "  y = -1\n",
    "\\end{array}\n",
    "\n",
    "\\therefore\n",
    "\n",
    "\\begin{cases}\n",
    "   x = -2 \\\\\n",
    "   y = -1\n",
    "\\end{cases}\n",
    "\n",
    "$$"
   ]
  },
  {
   "cell_type": "code",
   "execution_count": 1,
   "metadata": {},
   "outputs": [],
   "source": [
    "%matplotlib inline"
   ]
  },
  {
   "cell_type": "code",
   "execution_count": 2,
   "metadata": {},
   "outputs": [],
   "source": [
    "import numpy as np\n",
    "import matplotlib.pyplot as plt"
   ]
  },
  {
   "cell_type": "code",
   "execution_count": 3,
   "metadata": {},
   "outputs": [],
   "source": [
    "x = np.arange(-5,5)"
   ]
  },
  {
   "cell_type": "code",
   "execution_count": 4,
   "metadata": {},
   "outputs": [],
   "source": [
    "y_1 = 3*x + 5\n",
    "y_2 = 2*x + 3"
   ]
  },
  {
   "cell_type": "code",
   "execution_count": 5,
   "metadata": {},
   "outputs": [
    {
     "data": {
      "image/png": "[encoded data removed]",
      "text/plain": [
       "<Figure size 640x480 with 1 Axes>"
      ]
     },
     "metadata": {},
     "output_type": "display_data"
    }
   ],
   "source": [
    "plt.plot(x,y_1)\n",
    "plt.plot(x, y_2)\n",
    "\n",
    "plt.xlim(-5, 5)\n",
    "plt.ylim(-5, 5)\n",
    "\n",
    "plt.axvline(x=0, color=\"grey\")\n",
    "plt.axhline(y=0, color=\"grey\")\n",
    "plt.show()"
   ]
  },
  {
   "cell_type": "markdown",
   "metadata": {},
   "source": [
    "## Representación matricial"
   ]
  },
  {
   "cell_type": "markdown",
   "metadata": {},
   "source": [
    "Un sistema de ecuaciones lineales puede representarse en un formato matricial, esto nos ayuda a resolver este sistema de forma \"programatica\" utlizando herramientas especializadas como `numpy`, así podremos obtener los valores de $x$ y $y$ sin hacerlo a lápiz y papel.\n",
    "\n",
    "\n",
    "\n",
    "Si deseamos representar las ecuaciones  del ejemplo en un formato matricial, debemos dejar a las variables en el mismo lado de la igualdad.\n",
    "\n",
    "Entonces las ecuaciones quedarían así:\n",
    "$$\n",
    "\\begin{cases}\n",
    "   3x-y=5 \\\\\n",
    " 2x -y =3\n",
    "\\end{cases}\n",
    "$$\n",
    "\n",
    "Para representar un sistema de ecuaciones lineales en matrices necesitamos 3 crear matrices:\n",
    "1. **Matriz de coeficientes (A)**: Esta conformada por los coeficientes que acompañan a las variables. \n",
    "$$\n",
    "A = \\begin{pmatrix}\n",
    "   3 & -1 \\\\\n",
    "   2 & -1\n",
    "\\end{pmatrix}\n",
    "$$\n",
    "2. **Matriz de variables(X)**: Esta conformada por las variables del sistema de ecuaciones.\n",
    "$$\n",
    "X =\\begin{pmatrix}\n",
    "   x \\\\\n",
    "   y\n",
    "\\end{pmatrix}\n",
    "$$\n",
    "3. **Matriz de constantes(B)**: Esta conformada por los valores constantes de las ecuaciones.\n",
    "$$\n",
    "B=\\begin{pmatrix}\n",
    "   5 \\\\\n",
    "   3\n",
    "\\end{pmatrix}\n",
    "$$\n",
    "\n",
    "El sistema de ecuaciones lineales anterior al representarlo en un formato matricial nos quedaría la siguiente expresión:\n",
    "$$\n",
    "AX = B\n",
    "$$\n",
    "\n",
    "O bien:\n",
    "$$\n",
    "\\begin{pmatrix}\n",
    "   3 & -1 \\\\\n",
    "   2 & -1\n",
    "\\end{pmatrix}\n",
    "\\begin{pmatrix}\n",
    "   x \\\\\n",
    "   y\n",
    "\\end{pmatrix}\n",
    "=\n",
    "\\begin{pmatrix}\n",
    "   5 \\\\\n",
    "   3\n",
    "\\end{pmatrix}\n",
    "$$"
   ]
  },
  {
   "cell_type": "markdown",
   "metadata": {},
   "source": [
    "Utilizando `numpy` y descomponiendo el sistema de ecuaciones como en los ejemplos anteriores tenemos:"
   ]
  },
  {
   "cell_type": "code",
   "execution_count": 6,
   "metadata": {},
   "outputs": [
    {
     "name": "stdout",
     "output_type": "stream",
     "text": [
      "La solución al sistema de ecuaciones lineales:\n",
      "x = -2\n",
      "y = -1\n"
     ]
    }
   ],
   "source": [
    "A = np.array([[-3,1], [-2,1]]) # Matriz de coeficientes\n",
    "B = np.array([5,3]) # Matriz de constantes\n",
    "\n",
    "X = np.linalg.solve(A, B)\n",
    "print(\"La solución al sistema de ecuaciones lineales:\")\n",
    "print(f\"x = {round(X[0])}\", f\"y = {round(X[1])}\", sep=\"\\n\")"
   ]
  },
  {
   "cell_type": "markdown",
   "metadata": {},
   "source": [
    "Los valores $x = -2$ y $y = -1$ representan la coordenada $(-2,-1)$ donde las gráficas de las ecuaciones se interseptan.\n",
    "\n",
    "<br>\n",
    "Visualización:"
   ]
  },
  {
   "cell_type": "code",
   "execution_count": 7,
   "metadata": {},
   "outputs": [
    {
     "data": {
      "image/png": "[encoded data removed]",
      "text/plain": [
       "<Figure size 640x480 with 1 Axes>"
      ]
     },
     "metadata": {},
     "output_type": "display_data"
    }
   ],
   "source": [
    "plt.plot(x,y_1)\n",
    "plt.plot(x, y_2)\n",
    "\n",
    "plt.xlim(-5, 5)\n",
    "plt.ylim(-5, 5)\n",
    "\n",
    " # Intersección entre las ecuaciones\n",
    "plt.vlines(\n",
    "  x=X[0],\n",
    "  ymin=X[1],\n",
    "  ymax=0,\n",
    "  linestyle=\"dashed\",\n",
    "  color=\"black\"\n",
    ")\n",
    "plt.hlines(\n",
    "  y=X[1],\n",
    "  xmin=0,\n",
    "  xmax=X[0],\n",
    "  linestyle=\"dashed\",\n",
    "  color=\"black\"\n",
    ")\n",
    "plt.plot(-2, -1, \"ro\")\n",
    "\n",
    "plt.axvline(x=0, color=\"grey\")\n",
    "plt.axhline(y=0, color=\"grey\")\n",
    "plt.show()"
   ]
  }
 ],
 "metadata": {
  "kernelspec": {
   "display_name": "cursos-ds",
   "language": "python",
   "name": "python3"
  },
  "language_info": {
   "codemirror_mode": {
    "name": "ipython",
    "version": 3
   },
   "file_extension": ".py",
   "mimetype": "text/x-python",
   "name": "python",
   "nbconvert_exporter": "python",
   "pygments_lexer": "ipython3",
   "version": "3.10.9"
  }
 },
 "nbformat": 4,
 "nbformat_minor": 2
}
